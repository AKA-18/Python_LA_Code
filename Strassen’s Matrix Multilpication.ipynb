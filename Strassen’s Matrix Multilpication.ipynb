{
 "cells": [
  {
   "cell_type": "code",
   "execution_count": 42,
   "id": "7b57d4dc",
   "metadata": {},
   "outputs": [
    {
     "name": "stdout",
     "output_type": "stream",
     "text": [
      "Enter number of row of matrix 1: 2\n",
      "Enter number of columns of matrix 1: 2\n",
      "column 1 -> Enter 1 element for Matrix One:1\n",
      "column 2 -> Enter 1 element for Matrix One:2\n",
      "column 1 -> Enter 2 element for Matrix One:3\n",
      "column 2 -> Enter 2 element for Matrix One:4\n",
      "Enter number of row of matrix 2: 2\n",
      "Enter number of columns of matrix 2: 2\n",
      "column 1 -> Enter 1 element for Matrix Two:1\n",
      "column 2 -> Enter 1 element for Matrix Two:2\n",
      "column 1 -> Enter 2 element for Matrix Two:3\n",
      "column 2 -> Enter 2 element for Matrix Two:4\n",
      "matrix 1: \n",
      "[1, 2]\n",
      "[3, 4]\n",
      "matrix 2: \n",
      "[1, 2]\n",
      "[3, 4]\n",
      "Matrix 3: Matrix 1 * Matrix 2 \n",
      "[7, 10]\n",
      "[15, 22]\n"
     ]
    }
   ],
   "source": [
    "#Taking the number of rows and columns for matrix one as input from the user\n",
    "m1_row = int(input('Enter number of row of matrix 1: '))\n",
    "m1_col = int(input('Enter number of columns of matrix 1: '))\n",
    "\n",
    "#Create a first matrix using input() function and nested list comprehension\n",
    "a = [[int(input(f'column {j+1} -> Enter {i+1} element for Matrix One:')) for j in range(m1_col)] for i in range(m1_row)]\n",
    "  \n",
    "#Taking the number of rows and columns for matrix two as input from the user    \n",
    "m2_row = int(input('Enter number of row of matrix 2: '))\n",
    "m2_col = int(input('Enter number of columns of matrix 2: '))\n",
    "\n",
    "#Create a second matrix using input() function and nested list comprehension\n",
    "b = [[int(input(f'column {j+1} -> Enter {i+1} element for Matrix Two:')) for j in range(m2_col)] for i in range(m2_row)]\n",
    "\n",
    "#Print matrix one\n",
    "print('matrix 1: ')\n",
    "for i in a:\n",
    "    print(i)\n",
    "\n",
    "#Print matrix two\n",
    "print('matrix 2: ')\n",
    "for i in b:\n",
    "    print(i)\n",
    "    \n",
    "#If no. of columns of matrix one is equal to no. of rows of matrix two, if true execute IF logic,\n",
    "#if not execute multiplication Else logic\n",
    "n=len(a)\n",
    "if (n == 2):\n",
    "    p1 = (a[0][0] + a[1][1]) * (b[0][0] + b[1][1])\n",
    "    p2 = (a[1][0] + a[1][1]) * b[0][0]\n",
    "    p3 = a[0][0] * (b[0][1] - b[1][1])\n",
    "    p4 = a[1][1] * (b[1][0] - b[0][0])\n",
    "    p5 = (a[0][0] + a[0][1]) * b[1][1]\n",
    "    p6 = (a[1][0] - a[0][0]) * (b[0][0] + b[0][1])\n",
    "    p7 = (a[0][1] - a[1][1]) * (b[1][0] + b[1][1])\n",
    "    m, n = 2,2\n",
    "    c = [[0] * n for i in range(m)]\n",
    "    c[0][0] = p1 + p4 - p5 + p7\n",
    "    c[0][1] = p3 + p5\n",
    "    c[1][0] = p2 + p4\n",
    "    c[1][1] = p1 - p2 + p3 + p6\n",
    "print('Matrix 3: Matrix 1 * Matrix 2 ')\n",
    "for i in c:\n",
    "    print(i)\n",
    "\n",
    "    \n"
   ]
  },
  {
   "cell_type": "code",
   "execution_count": 5,
   "id": "d97fe80f",
   "metadata": {},
   "outputs": [
    {
     "data": {
      "text/plain": [
       "array([[ 7, 10],\n",
       "       [15, 22]])"
      ]
     },
     "execution_count": 5,
     "metadata": {},
     "output_type": "execute_result"
    }
   ],
   "source": [
    "import numpy as np #importing the packages\n",
    "mat1=np.array(a)#creating numpy array for matrix 1\n",
    "mat2=np.array(b)#creating numpy array for matrix 2\n",
    "res=[] #declaring empty matrix\n",
    "res=np.dot(mat1,mat2) #performing matrix multiplication\n",
    "res #printing the result"
   ]
  }
 ],
 "metadata": {
  "kernelspec": {
   "display_name": "Python 3 (ipykernel)",
   "language": "python",
   "name": "python3"
  },
  "language_info": {
   "codemirror_mode": {
    "name": "ipython",
    "version": 3
   },
   "file_extension": ".py",
   "mimetype": "text/x-python",
   "name": "python",
   "nbconvert_exporter": "python",
   "pygments_lexer": "ipython3",
   "version": "3.9.7"
  }
 },
 "nbformat": 4,
 "nbformat_minor": 5
}

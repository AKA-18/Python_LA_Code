{
 "cells": [
  {
   "cell_type": "markdown",
   "id": "3dbbbf32",
   "metadata": {},
   "source": [
    "# Question 2"
   ]
  },
  {
   "cell_type": "markdown",
   "id": "507321c8",
   "metadata": {},
   "source": [
    "Write the Python code to find out the transpose of a matrix without using NumPy libraries.\n",
    "Verify your result using NumPy function"
   ]
  },
  {
   "cell_type": "markdown",
   "id": "f6ea79c1",
   "metadata": {},
   "source": [
    "Input:Number of rows, columns and elements of the matrix "
   ]
  },
  {
   "cell_type": "markdown",
   "id": "e2a94aef",
   "metadata": {},
   "source": [
    "Output:Transpose of the matrix"
   ]
  },
  {
   "cell_type": "markdown",
   "id": "3dc6a424",
   "metadata": {},
   "source": [
    "# Answer :"
   ]
  },
  {
   "cell_type": "markdown",
   "id": "2886253c",
   "metadata": {},
   "source": [
    "# Matrix - A Definition\n",
    "A matrix is a rectangular array of numbers or symbols which are generally arranged in rows and columns.The order of the matrix is defined as the number of rows and columns.The entries are the numbers in the matrix and each number is known as an element.The plural of matrix is matrices.The size of a matrix is referred to as ‘n by m’ matrix and is written as m×n, where n is the number of rows and m is the number of columns"
   ]
  },
  {
   "cell_type": "markdown",
   "id": "d5485bc3",
   "metadata": {},
   "source": [
    "# Transpose of a Matrix - A Definition\n",
    "The transpose of a matrix is found by interchanging its rows into columns or columns into rows. The transpose of the matrix is denoted by using the letter “T” in the superscript of the given matrix. For example, if “A” is the given matrix, then the transpose of the matrix is represented by A’.\n",
    "\n",
    "The following statement generalizes the matrix transpose:\n",
    "\n",
    " \n",
    "Thus Transpose of a Matrix is defined as “A Matrix which is formed by turning all the rows of a given matrix into columns and vice-versa.”"
   ]
  },
  {
   "cell_type": "markdown",
   "id": "2eb65413",
   "metadata": {},
   "source": [
    "# Code Implementation - without using inbuilt function"
   ]
  },
  {
   "cell_type": "code",
   "execution_count": 1,
   "id": "c2748629",
   "metadata": {},
   "outputs": [
    {
     "name": "stdout",
     "output_type": "stream",
     "text": [
      "Enter number of row: 2\n",
      "Enter number of col: 2\n",
      "column 1 -> Enter 1 element for Matrix One:1\n",
      "column 2 -> Enter 1 element for Matrix One:2\n",
      "column 1 -> Enter 2 element for Matrix One:3\n",
      "column 2 -> Enter 2 element for Matrix One:4\n",
      "\n",
      "Matrix 1: \n",
      "[1, 2]\n",
      "[3, 4]\n",
      "\n",
      "Transpose of matrix: \n",
      "[1, 3]\n",
      "[2, 4]\n"
     ]
    }
   ],
   "source": [
    "# Taking the number of rows and columns for matrix one as input from the user\n",
    "m1_row = int(input('Enter number of row: '))\n",
    "m1_col = int(input('Enter number of col: '))\n",
    "\n",
    "#  create a matrix using input() function and nested list comprehension\n",
    "matrix = [[int(input(f'column {j+1} -> Enter {i+1} element for Matrix One:')) for j in range(m1_col)] for i in range(m1_row)]\n",
    "\n",
    "# create another list where we store result (transpose of matrix)\n",
    "transpose = [[0 for i in range(m1_row)] for j in range(m1_col)]\n",
    "\n",
    "print()    # for new line\n",
    "\n",
    "# print Matrix One\n",
    "print('Matrix 1: ')\n",
    "for i in matrix:\n",
    "    print(i)\n",
    "\n",
    "# transpose of matrix, by interchanging the rows and columns of a matrix\n",
    "for i in range(m1_row):\n",
    "    for j in range(m1_col):\n",
    "        transpose[j][i] = matrix[i][j]\n",
    "\n",
    "print()   # new line \n",
    "\n",
    "# print transpose of matrix\n",
    "print('Transpose of matrix: ')\n",
    "for i in transpose:\n",
    "    print(i)"
   ]
  },
  {
   "cell_type": "markdown",
   "id": "bb20ecba",
   "metadata": {},
   "source": [
    "# Performing validation using numpy function"
   ]
  },
  {
   "cell_type": "code",
   "execution_count": 3,
   "id": "9642f062",
   "metadata": {},
   "outputs": [
    {
     "name": "stdout",
     "output_type": "stream",
     "text": [
      "Original Array:\n",
      "[[1 2]\n",
      " [3 4]]\n",
      "Transposed Array:\n",
      "[[1 3]\n",
      " [2 4]]\n"
     ]
    }
   ],
   "source": [
    "import numpy as np #importing libraries\n",
    "\n",
    "arr1 = np.array(matrix) #creating numpy array for matrix \n",
    "\n",
    "print(f'Original Array:\\n{arr1}') #printing the numpy matrix \n",
    "\n",
    "arr1_transpose = arr1.transpose() #performing the transpose operation\n",
    "\n",
    "print(f'Transposed Array:\\n{arr1_transpose}') #printing the transposed matrix"
   ]
  },
  {
   "cell_type": "code",
   "execution_count": null,
   "id": "68158c80",
   "metadata": {},
   "outputs": [],
   "source": []
  }
 ],
 "metadata": {
  "kernelspec": {
   "display_name": "Python 3 (ipykernel)",
   "language": "python",
   "name": "python3"
  },
  "language_info": {
   "codemirror_mode": {
    "name": "ipython",
    "version": 3
   },
   "file_extension": ".py",
   "mimetype": "text/x-python",
   "name": "python",
   "nbconvert_exporter": "python",
   "pygments_lexer": "ipython3",
   "version": "3.9.7"
  }
 },
 "nbformat": 4,
 "nbformat_minor": 5
}

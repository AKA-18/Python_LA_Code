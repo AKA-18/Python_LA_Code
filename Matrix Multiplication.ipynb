{
 "cells": [
  {
   "cell_type": "markdown",
   "id": "45d5da8d",
   "metadata": {},
   "source": [
    "# Question 1:\n",
    "Write the Python code to multiply two matrices without using NumPy libraries.\n",
    "Verify your result using NumPy function.\n"
   ]
  },
  {
   "cell_type": "markdown",
   "id": "b5473755",
   "metadata": {},
   "source": [
    "Input:\n",
    "Number of rows, columns and elements of matrix 1 and Matrix 2.\n"
   ]
  },
  {
   "cell_type": "markdown",
   "id": "f99db152",
   "metadata": {},
   "source": [
    "Output:\n",
    "The product of two matrices."
   ]
  },
  {
   "cell_type": "markdown",
   "id": "2c5304b2",
   "metadata": {},
   "source": [
    "# Answer :"
   ]
  },
  {
   "cell_type": "markdown",
   "id": "7244c42c",
   "metadata": {},
   "source": [
    "# Matrix - A Definition\n",
    "A matrix is a rectangular array of numbers or symbols which are generally arranged in rows and columns.The order of the matrix is defined as the number of rows and columns.The entries are the numbers in the matrix and each number is known as an element.The plural of matrix is matrices.The size of a matrix is referred to as ‘n by m’ matrix and is written as m×n, where n is the number of rows and m is the number of columns"
   ]
  },
  {
   "cell_type": "markdown",
   "id": "67a8a3ff",
   "metadata": {},
   "source": [
    "# Matrix Multiplication - A Defnition\n",
    "For matrix multiplication, the number of columns in the first matrix must be equal to the number of rows in the second matrix. The resulting matrix, known as the matrix product, has the number of rows of the first and the number of columns of the second matrix. The product of matrices A and B is denoted as AB"
   ]
  },
  {
   "cell_type": "markdown",
   "id": "434401d8",
   "metadata": {},
   "source": [
    "# Code Implementation - without using inbuild function"
   ]
  },
  {
   "cell_type": "code",
   "execution_count": 2,
   "id": "483d1ca1",
   "metadata": {},
   "outputs": [
    {
     "name": "stdout",
     "output_type": "stream",
     "text": [
      "Enter number of row of matrix 1: 2\n",
      "Enter number of columns of matrix 1: 2\n",
      "column 1 -> Enter 1 element for Matrix One:1\n",
      "column 2 -> Enter 1 element for Matrix One:2\n",
      "column 1 -> Enter 2 element for Matrix One:3\n",
      "column 2 -> Enter 2 element for Matrix One:4\n",
      "Enter number of row of matrix 2: 2\n",
      "Enter number of columns of matrix 2: 2\n",
      "column 1 -> Enter 1 element for Matrix Two:5\n",
      "column 2 -> Enter 1 element for Matrix Two:6\n",
      "column 1 -> Enter 2 element for Matrix Two:7\n",
      "column 2 -> Enter 2 element for Matrix Two:8\n",
      "matrix 1: \n",
      "[1, 2]\n",
      "[3, 4]\n",
      "matrix 2: \n",
      "[5, 6]\n",
      "[7, 8]\n",
      "Since number of columns of Matrix one is equall to number of rows of Matrix two, Matrix Multiplication is Possible! \n",
      "\n",
      "Matrix Multiplication Product of Matrix 1 * Matrix 2 is: \n",
      "[19, 22]\n",
      "[43, 50]\n"
     ]
    }
   ],
   "source": [
    "#Taking the number of rows and columns for matrix one as input from the user\n",
    "m1_row = int(input('Enter number of row of matrix 1: '))\n",
    "m1_col = int(input('Enter number of columns of matrix 1: '))\n",
    "\n",
    "#Create a first matrix using input() function and nested list comprehension\n",
    "matrix1 = [[int(input(f'column {j+1} -> Enter {i+1} element for Matrix One:')) for j in range(m1_col)] for i in range(m1_row)]\n",
    "  \n",
    "#Taking the number of rows and columns for matrix two as input from the user    \n",
    "m2_row = int(input('Enter number of row of matrix 2: '))\n",
    "m2_col = int(input('Enter number of columns of matrix 2: '))\n",
    "\n",
    "#Create a second matrix using input() function and nested list comprehension\n",
    "matrix2 = [[int(input(f'column {j+1} -> Enter {i+1} element for Matrix Two:')) for j in range(m2_col)] for i in range(m2_row)]\n",
    "\n",
    "#Print matrix one\n",
    "print('matrix 1: ')\n",
    "for i in matrix1:\n",
    "    print(i)\n",
    "\n",
    "#Print matrix two\n",
    "print('matrix 2: ')\n",
    "for i in matrix2:\n",
    "    print(i)\n",
    "    \n",
    "#If no. of columns of matrix one is equal to no. of rows of matrix two, if true execute IF logic,\n",
    "#if not execute multiplication Else logic  \n",
    "if(m1_col==m2_row): \n",
    "    print(\"Since number of columns of Matrix one is equall to number of rows of Matrix two, Matrix Multiplication is Possible!\") \n",
    "#Declaring a new variable with column size same as the column size of matrix 2 and row size same as the row size of matrix 1\n",
    "    result=[[0 for i in range(m2_col)] for i in range(m1_row)]\n",
    "#Loop Logic for performing the matrix multiplication \n",
    "    for i in range(len(matrix1)):  \n",
    "        for j in range(len(matrix2[0])):\n",
    "            for k in range(len(matrix2)):\n",
    "                result [i][j]+=matrix1[i][k]*matrix2[k][j]\n",
    "#Printing the result of matrix multiplication\n",
    "    print(\"\\nMatrix Multiplication Product of Matrix 1 * Matrix 2 is: \") \n",
    "    for r in result:\n",
    "        print(r)\n",
    "#If no. of columns of matrix one isn't equal to no. of rows of matrix two, printing that matrix multiplication is not possible        \n",
    "else: \n",
    "    print(\"Matrix Multiplication is not possible.\")"
   ]
  },
  {
   "cell_type": "markdown",
   "id": "9538e0b4",
   "metadata": {},
   "source": [
    "# Performing the Validation using Numpy Function"
   ]
  },
  {
   "cell_type": "code",
   "execution_count": 12,
   "id": "f6dbb3db",
   "metadata": {},
   "outputs": [
    {
     "data": {
      "text/plain": [
       "array([[19, 22],\n",
       "       [43, 50]])"
      ]
     },
     "execution_count": 12,
     "metadata": {},
     "output_type": "execute_result"
    }
   ],
   "source": [
    "import numpy as np #importing the packages\n",
    "mat1=np.array(matrix1)#creating numpy array for matrix 1\n",
    "mat2=np.array(matrix2)#creating numpy array for matrix 2\n",
    "res=[] #declaring empty matrix\n",
    "res=np.dot(mat1,mat2) #performing matrix multiplication\n",
    "res #printing the result"
   ]
  },
  {
   "cell_type": "code",
   "execution_count": null,
   "id": "ec1181a0",
   "metadata": {},
   "outputs": [],
   "source": []
  }
 ],
 "metadata": {
  "kernelspec": {
   "display_name": "Python 3 (ipykernel)",
   "language": "python",
   "name": "python3"
  },
  "language_info": {
   "codemirror_mode": {
    "name": "ipython",
    "version": 3
   },
   "file_extension": ".py",
   "mimetype": "text/x-python",
   "name": "python",
   "nbconvert_exporter": "python",
   "pygments_lexer": "ipython3",
   "version": "3.9.7"
  }
 },
 "nbformat": 4,
 "nbformat_minor": 5
}

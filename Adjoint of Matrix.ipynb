{
 "cells": [
  {
   "cell_type": "markdown",
   "id": "2687f1c8",
   "metadata": {},
   "source": [
    "# Question 3\n",
    "Write the Python function to generate the Adjoint Matrix of 3 x 3 Matrix, without using NumPy \n",
    "libraries. (Use the function in Question No: 1 and 2, function for matrix transpose in question \n",
    "number 2 in assignment No. 1).\n",
    "\n",
    "Write python code find out the Adjoint Matrix of the given 3 X3 Matrix using this function.\n",
    "\n",
    "# Input:\n",
    "Elements of the 3 X 3 Matrix\n",
    "\n",
    "# Output:\n",
    "Adjoint Matrix corresponding to the given 3 x3 Matrix."
   ]
  },
  {
   "cell_type": "markdown",
   "id": "f7875501",
   "metadata": {},
   "source": [
    "# Answer with code :"
   ]
  },
  {
   "cell_type": "markdown",
   "id": "642e1bac",
   "metadata": {},
   "source": [
    "# Matrix - A Definition\n",
    "A matrix is a rectangular array of numbers or symbols which are generally arranged in rows and columns.The order of the matrix is defined as the number of rows and columns.The entries are the numbers in the matrix and each number is known as an element.The plural of matrix is matrices.The size of a matrix is referred to as ‘n by m’ matrix and is written as m×n, where n is the number of rows and m is the number of columns."
   ]
  },
  {
   "cell_type": "markdown",
   "id": "cd4a0125",
   "metadata": {},
   "source": [
    "# Adjoint of a Matrix - A Definition and how to find it\n",
    "The adjoint of a matrix B is the transpose of the cofactor matrix of C. The adjoint of a square matrix C is denoted by \n",
    "adj C. Let C = [cij] be a square matrix of order n. The three important steps involved in finding the adjoint of a matrix are:\n",
    "\n",
    "1.Find the minor matrix M of all the elements of matrix B.\n",
    "\n",
    "2.Find the cofactor matrix C of all the minor elements of matrix M.\n",
    "\n",
    "3.Find the adj B by taking the transpose of the cofactor matrix C."
   ]
  },
  {
   "cell_type": "markdown",
   "id": "bfd797a1",
   "metadata": {},
   "source": [
    "# User Defined Function for Finding the Minor of used inputed matrix "
   ]
  },
  {
   "cell_type": "markdown",
   "id": "4efe7fd4",
   "metadata": {},
   "source": [
    "# Function for fetching the Transpose of Cofactor matrix"
   ]
  },
  {
   "cell_type": "code",
   "execution_count": 1,
   "id": "b07f6b50",
   "metadata": {},
   "outputs": [],
   "source": [
    "def FetchMatrixTranspose(fmc,m_row,m_col): #function for finding the transpose\n",
    "    A = [([0]*m_col) for i in range(m_row)] #Here we creating an zero matrix 'M' having same size as our input matrix\n",
    "    for i in range(m_row):# Two variable to access the matrix elements \n",
    "        for j in range(m_col): #Loop counter with m_col\n",
    "            A[j][i] = fmc[i][j] #logic of interchanging rows and columns of the matrix\n",
    "    return A"
   ]
  },
  {
   "cell_type": "markdown",
   "id": "56653a9c",
   "metadata": {},
   "source": [
    "# Function for fetching the Cofactor matrix"
   ]
  },
  {
   "cell_type": "code",
   "execution_count": 2,
   "id": "0d695bee",
   "metadata": {},
   "outputs": [],
   "source": [
    "def FetchMatrixCofactor(m,fmm,m_row,m_col): #function for fetching matrix \n",
    "    C = [([0]*m_col) for i in range(m_row)] #Here we creating an zero matrix 'M' having same size as our input matrix\n",
    "    for r in range(len(m)): # Two variable to access the matrix elements \n",
    "        for c in range(len(m)): # #Loop counter with m_col\n",
    "            C[r][c]=(-1)**(r+c)*fmm[r][c] #logic of elements of cofactor matrix with(-1)^(row and column index values)\n",
    "    return C"
   ]
  },
  {
   "cell_type": "markdown",
   "id": "6951ecc8",
   "metadata": {},
   "source": [
    "# Function for fetching the Minor Matrix"
   ]
  },
  {
   "cell_type": "code",
   "execution_count": 3,
   "id": "252ae992",
   "metadata": {},
   "outputs": [],
   "source": [
    "def FetchMatrixMinor(m,m_row,m_col):\n",
    "    M = [([0]*m_col) for i in range(m_row)] #Here we creating an zero matrix 'M' having same size as our input matrix\n",
    "    for r in range(len(m)+1): # Two variable to access the matrix elements \n",
    "        for c in range(len(m)+1):\n",
    "           M[len(m)-3][len(m)-3]=m[len(m)-2][len(m)-2]*m[len(m)-1][len(m)-1]-m[len(m)-2][len(m)-1]*m[len(m)-1][len(m)-2] #finding the M11 element of minor matrix by finding the determinant of sub-matrix obtainred by elimiating 1st row and 1st column   \n",
    "           M[len(m)-3][len(m)-2]=m[len(m)-2][len(m)-3]*m[len(m)-1][len(m)-1]-m[len(m)-2][len(m)-1]*m[len(m)-1][len(m)-3] #finding the M11 element of minor matrix by finding the determinant of sub-matrix obtainred by elimiating 1st row and 2nd column\n",
    "           M[len(m)-3][len(m)-1]=m[len(m)-2][len(m)-3]*m[len(m)-1][len(m)-2]-m[len(m)-2][len(m)-2]*m[len(m)-1][len(m)-3] #finding the M11 element of minor matrix by finding the determinant of sub-matrix obtainred by elimiating 1st row and 3rd column\n",
    "           M[len(m)-2][len(m)-3]=m[len(m)-3][len(m)-2]*m[len(m)-1][len(m)-1]-m[len(m)-3][len(m)-1]*m[len(m)-1][len(m)-2] #finding the M11 element of minor matrix by finding the determinant of sub-matrix obtainred by elimiating 2nd row and 1st column\n",
    "           M[len(m)-2][len(m)-2]=m[len(m)-3][len(m)-3]*m[len(m)-1][len(m)-1]-m[len(m)-3][len(m)-1]*m[len(m)-1][len(m)-3] #finding the M11 element of minor matrix by finding the determinant of sub-matrix obtainred by elimiating 2nd row and 2nd column\n",
    "           M[len(m)-2][len(m)-1]=m[len(m)-3][len(m)-3]*m[len(m)-1][len(m)-2]-m[len(m)-3][len(m)-2]*m[len(m)-1][len(m)-3] #finding the M11 element of minor matrix by finding the determinant of sub-matrix obtainred by elimiating 2nd row and 3rd column\n",
    "           M[len(m)-1][len(m)-3]=m[len(m)-3][len(m)-2]*m[len(m)-2][len(m)-1]-m[len(m)-3][len(m)-1]*m[len(m)-2][len(m)-2] #finding the M11 element of minor matrix by finding the determinant of sub-matrix obtainred by elimiating 3rd row and 1st column\n",
    "           M[len(m)-1][len(m)-2]=m[len(m)-3][len(m)-3]*m[len(m)-2][len(m)-1]-m[len(m)-3][len(m)-1]*m[len(m)-2][len(m)-3] #finding the M11 element of minor matrix by finding the determinant of sub-matrix obtainred by elimiating 3rd row and 2nd column\n",
    "           M[len(m)-1][len(m)-1]=m[len(m)-3][len(m)-3]*m[len(m)-2][len(m)-2]-m[len(m)-3][len(m)-2]*m[len(m)-2][len(m)-3] #finding the M11 element of minor matrix by finding the determinant of sub-matrix obtainred by elimiating 3rd row and 3rd column\n",
    "        return M"
   ]
  },
  {
   "cell_type": "markdown",
   "id": "288d3d11",
   "metadata": {},
   "source": [
    "# Main Program"
   ]
  },
  {
   "cell_type": "code",
   "execution_count": 4,
   "id": "ba1876be",
   "metadata": {},
   "outputs": [
    {
     "name": "stdout",
     "output_type": "stream",
     "text": [
      "Enter number of row of matrix 1: 3\n",
      "Enter number of columns of matrix 1: 3\n",
      "column 1 -> Enter 1 element for Matrix One:2\n",
      "column 2 -> Enter 1 element for Matrix One:4\n",
      "column 3 -> Enter 1 element for Matrix One:6\n",
      "column 1 -> Enter 2 element for Matrix One:3\n",
      "column 2 -> Enter 2 element for Matrix One:6\n",
      "column 3 -> Enter 2 element for Matrix One:9\n",
      "column 1 -> Enter 3 element for Matrix One:5\n",
      "column 2 -> Enter 3 element for Matrix One:15\n",
      "column 3 -> Enter 3 element for Matrix One:2\n",
      "User Inputed Matrix: \n",
      "[2, 4, 6]\n",
      "[3, 6, 9]\n",
      "[5, 15, 2]\n",
      "The Adjoint Matrix\n",
      "[-123, 82, 0]\n",
      "[39, -26, 0]\n",
      "[15, -10, 0]\n"
     ]
    }
   ],
   "source": [
    "#Taking the number of rows and columns for matrix as input from the user\n",
    "m_row = int(input('Enter number of row of matrix 1: '))\n",
    "m_col = int(input('Enter number of columns of matrix 1: '))\n",
    "\n",
    "#Create a first matrix using input() function and nested list comprehension\n",
    "m = [[int(input(f'column {j+1} -> Enter {i+1} element for Matrix One:')) for j in range(m_col)] for i in range(m_row)]\n",
    "\n",
    "#Print inputed Matrix\n",
    "print('User Inputed Matrix: ')\n",
    "for i in m:\n",
    "    print(i)\n",
    "\n",
    "#calling the function FetchMatrixMinor passing row number, column number and matrix itself, for fetching minor matrix of inputed matrix\n",
    "fmm = FetchMatrixMinor(m,m_row,m_col)\n",
    "#calling the function FetchMatrixCofactor passing row number, column number and matrix,minor matrix , for fetching cofactor matrix of inputed minior matrix\n",
    "fmc=FetchMatrixCofactor(m,fmm,m_row,m_col)\n",
    "#calling the function FetchMatrixTranspose passing row number, column number and cofactor matrix , for fetching adjoint matrix of inputed cofactor matrix\n",
    "fmt=FetchMatrixTranspose(fmc,m_row,m_col)\n",
    "print('The Adjoint Matrix')\n",
    "for i in fmt: #printing the adjoint matrix as a 3X3 matrix from the returned cofactor matrix\n",
    "    print(i)  "
   ]
  },
  {
   "cell_type": "markdown",
   "id": "0b58aa37",
   "metadata": {},
   "source": [
    "  # Performing validation using Numpy"
   ]
  },
  {
   "cell_type": "code",
   "execution_count": 14,
   "id": "c4bb7ebb",
   "metadata": {},
   "outputs": [
    {
     "name": "stdout",
     "output_type": "stream",
     "text": [
      "[[-123   82    0]\n",
      " [  39  -26    0]\n",
      " [  15  -10    0]]\n"
     ]
    }
   ],
   "source": [
    "import numpy as np #importing libraries\n",
    "\n",
    "cofactor = np.array(fmc) #creating numpy array for cofactor matrix\n",
    "\n",
    "adjnt = cofactor.T #taking the transpose of the cofactor matrix \n",
    "\n",
    "print(adjnt) #printing the results"
   ]
  },
  {
   "cell_type": "code",
   "execution_count": null,
   "id": "01280324",
   "metadata": {},
   "outputs": [],
   "source": []
  }
 ],
 "metadata": {
  "kernelspec": {
   "display_name": "Python 3 (ipykernel)",
   "language": "python",
   "name": "python3"
  },
  "language_info": {
   "codemirror_mode": {
    "name": "ipython",
    "version": 3
   },
   "file_extension": ".py",
   "mimetype": "text/x-python",
   "name": "python",
   "nbconvert_exporter": "python",
   "pygments_lexer": "ipython3",
   "version": "3.9.7"
  }
 },
 "nbformat": 4,
 "nbformat_minor": 5
}

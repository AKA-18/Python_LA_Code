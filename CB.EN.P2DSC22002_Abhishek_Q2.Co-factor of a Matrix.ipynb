{
 "cells": [
  {
   "cell_type": "markdown",
   "id": "4fcf95af",
   "metadata": {},
   "source": [
    "# Question 2 "
   ]
  },
  {
   "cell_type": "markdown",
   "id": "cd13e4bd",
   "metadata": {},
   "source": [
    " Write the Python function to generate the Matrix of co-factors of 3 x 3 Matrix,without using NumPy libraries. (Use the function in Question No: 1)\n",
    "\n",
    "Write python code find out the Matrix of co-factors of the given 3 X3 Matrix using this function.\n",
    "\n",
    "# Input:\n",
    "Elements of the 3 X 3 Matrix.\n",
    "\n",
    "# Output:\n",
    "Matrix of Cofactors of 3 x 3 Matrix corresponding to 3 x3 Matrix."
   ]
  },
  {
   "cell_type": "markdown",
   "id": "5f980ee8",
   "metadata": {},
   "source": [
    "# Answer with code :"
   ]
  },
  {
   "cell_type": "markdown",
   "id": "39ac8081",
   "metadata": {},
   "source": [
    "# Matrix - A Definition\n",
    "A matrix is a rectangular array of numbers or symbols which are generally arranged in rows and columns.The order of the matrix is defined as the number of rows and columns.The entries are the numbers in the matrix and each number is known as an element.The plural of matrix is matrices.The size of a matrix is referred to as ‘n by m’ matrix and is written as m×n, where n is the number of rows and m is the number of columns."
   ]
  },
  {
   "cell_type": "markdown",
   "id": "a2af6507",
   "metadata": {},
   "source": [
    "# Cofactor of a Matrix - A Definition and how to find it"
   ]
  },
  {
   "cell_type": "markdown",
   "id": "cbd5c830",
   "metadata": {},
   "source": [
    "Co-factor matrix is a matrix having the co-factors as the elements of the matrix. First, let us understand more about the co-factor of an element within the matrix. Co-factor of an element within the matrix is obtained when the minor \n",
    "Mij of the element is multiplied with (-1)i+j. Here i and j are the positional values of the element and refers to the row and the column to which the given element belongs. The co-factor of the element is denoted as \n",
    "Cij. If the minor of the element is Mij , then the co-factor of element would be: Cij=(−1)^(i+j)*Mij"
   ]
  },
  {
   "cell_type": "markdown",
   "id": "bfd797a1",
   "metadata": {},
   "source": [
    "# User Defined Function for Finding the Cofactor of used inputed matrix "
   ]
  },
  {
   "cell_type": "markdown",
   "id": "9b4026a6",
   "metadata": {},
   "source": [
    "# Function for fetching the Cofactor matrix using Minor Matrix"
   ]
  },
  {
   "cell_type": "code",
   "execution_count": 7,
   "id": "0d695bee",
   "metadata": {},
   "outputs": [],
   "source": [
    "def FetchMatrixCofactor(m,fmm,m_row,m_col): #declaring cofactor matric function\n",
    "    C = [([0]*m_col) for i in range(m_row)] #Here we creating an zero matrix 'M' having same size as our input matrix\n",
    "    for r in range(len(m)): # Two variable to access the matrix elements \n",
    "        for c in range(len(m #loop counter\n",
    "            C[r][c]=(-1)**(r+c)*fmm[r][c] #logic of elements of cofactor matrix with(-1)^(row and column index values)\n",
    "    return C"
   ]
  },
  {
   "cell_type": "markdown",
   "id": "5a4c1228",
   "metadata": {},
   "source": [
    "# Function for fetching the minor matrix"
   ]
  },
  {
   "cell_type": "code",
   "execution_count": 8,
   "id": "252ae992",
   "metadata": {},
   "outputs": [],
   "source": [
    "def FetchMatrixMinor(m,m1_row,m1_col):\n",
    "    M = [([0]*m1_col) for i in range(m1_row)] #Here we creating an zero matrix 'M' having same size as our input matrix\n",
    "    for r in range(len(m)+1): # Two variable to access the matrix elements \n",
    "        for c in range(len(m)+1):\n",
    "           M[len(m)-3][len(m)-3]=m[len(m)-2][len(m)-2]*m[len(m)-1][len(m)-1]-m[len(m)-2][len(m)-1]*m[len(m)-1][len(m)-2] #finding the M11 element of minor matrix by finding the determinant of sub-matrix obtainred by elimiating 1st row and 1st column   \n",
    "           M[len(m)-3][len(m)-2]=m[len(m)-2][len(m)-3]*m[len(m)-1][len(m)-1]-m[len(m)-2][len(m)-1]*m[len(m)-1][len(m)-3] #finding the M11 element of minor matrix by finding the determinant of sub-matrix obtainred by elimiating 1st row and 2nd column\n",
    "           M[len(m)-3][len(m)-1]=m[len(m)-2][len(m)-3]*m[len(m)-1][len(m)-2]-m[len(m)-2][len(m)-2]*m[len(m)-1][len(m)-3] #finding the M11 element of minor matrix by finding the determinant of sub-matrix obtainred by elimiating 1st row and 3rd column\n",
    "           M[len(m)-2][len(m)-3]=m[len(m)-3][len(m)-2]*m[len(m)-1][len(m)-1]-m[len(m)-3][len(m)-1]*m[len(m)-1][len(m)-2] #finding the M11 element of minor matrix by finding the determinant of sub-matrix obtainred by elimiating 2nd row and 1st column\n",
    "           M[len(m)-2][len(m)-2]=m[len(m)-3][len(m)-3]*m[len(m)-1][len(m)-1]-m[len(m)-3][len(m)-1]*m[len(m)-1][len(m)-3] #finding the M11 element of minor matrix by finding the determinant of sub-matrix obtainred by elimiating 2nd row and 2nd column\n",
    "           M[len(m)-2][len(m)-1]=m[len(m)-3][len(m)-3]*m[len(m)-1][len(m)-2]-m[len(m)-3][len(m)-2]*m[len(m)-1][len(m)-3] #finding the M11 element of minor matrix by finding the determinant of sub-matrix obtainred by elimiating 2nd row and 3rd column\n",
    "           M[len(m)-1][len(m)-3]=m[len(m)-3][len(m)-2]*m[len(m)-2][len(m)-1]-m[len(m)-3][len(m)-1]*m[len(m)-2][len(m)-2] #finding the M11 element of minor matrix by finding the determinant of sub-matrix obtainred by elimiating 3rd row and 1st column\n",
    "           M[len(m)-1][len(m)-2]=m[len(m)-3][len(m)-3]*m[len(m)-2][len(m)-1]-m[len(m)-3][len(m)-1]*m[len(m)-2][len(m)-3] #finding the M11 element of minor matrix by finding the determinant of sub-matrix obtainred by elimiating 3rd row and 2nd column\n",
    "           M[len(m)-1][len(m)-1]=m[len(m)-3][len(m)-3]*m[len(m)-2][len(m)-2]-m[len(m)-3][len(m)-2]*m[len(m)-2][len(m)-3] #finding the M11 element of minor matrix by finding the determinant of sub-matrix obtainred by elimiating 3rd row and 3rd column\n",
    "        return M"
   ]
  },
  {
   "cell_type": "markdown",
   "id": "288d3d11",
   "metadata": {},
   "source": [
    "# Main Program"
   ]
  },
  {
   "cell_type": "code",
   "execution_count": 9,
   "id": "ba1876be",
   "metadata": {},
   "outputs": [
    {
     "name": "stdout",
     "output_type": "stream",
     "text": [
      "Enter number of row of matrix 1: 3\n",
      "Enter number of columns of matrix 1: 3\n",
      "column 1 -> Enter 1 element for Matrix One:1\n",
      "column 2 -> Enter 1 element for Matrix One:2\n",
      "column 3 -> Enter 1 element for Matrix One:3\n",
      "column 1 -> Enter 2 element for Matrix One:4\n",
      "column 2 -> Enter 2 element for Matrix One:5\n",
      "column 3 -> Enter 2 element for Matrix One:6\n",
      "column 1 -> Enter 3 element for Matrix One:7\n",
      "column 2 -> Enter 3 element for Matrix One:8\n",
      "column 3 -> Enter 3 element for Matrix One:9\n",
      "User Inputed Matrix: \n",
      "[1, 2, 3]\n",
      "[4, 5, 6]\n",
      "[7, 8, 9]\n",
      "The Minor matrix of User Inputed Matrix:\n",
      "[-3, -6, -3]\n",
      "[-6, -12, -6]\n",
      "[-3, -6, -3]\n",
      "The Cofactor Matrix\n",
      "[-3, 6, -3]\n",
      "[6, -12, 6]\n",
      "[-3, 6, -3]\n"
     ]
    }
   ],
   "source": [
    "#Taking the number of rows and columns for matrix as input from the user\n",
    "m_row = int(input('Enter number of row of matrix 1: '))\n",
    "m_col = int(input('Enter number of columns of matrix 1: '))\n",
    "\n",
    "#Create a first matrix using input() function and nested list comprehension\n",
    "m = [[int(input(f'column {j+1} -> Enter {i+1} element for Matrix One:')) for j in range(m_col)] for i in range(m_row)]\n",
    "\n",
    "#Print inputed Matrix\n",
    "print('User Inputed Matrix: ')\n",
    "for i in m:\n",
    "    print(i)\n",
    "\n",
    "#calling the function FetchMatrixMinor passing row number, column number and matrix itself, for fetching minor matrix of inputed matrix\n",
    "fmm = FetchMatrixMinor(m,m_row,m_col)\n",
    "#calling the function FetchMatrixCofactor passing row number, column number and matrix,minor matrix , for fetching cofactor matrix of inputed minior matrix\n",
    "fmc=FetchMatrixCofactor(m,fmm,m_row,m_col)\n",
    "print('The Cofactor Matrix')\n",
    "for i in fmc: #printing the cofactor matrix as a 3X3 matrix from the returned Minor matrix\n",
    "    print(i)"
   ]
  },
  {
   "cell_type": "code",
   "execution_count": null,
   "id": "1b064011",
   "metadata": {},
   "outputs": [],
   "source": []
  }
 ],
 "metadata": {
  "kernelspec": {
   "display_name": "Python 3 (ipykernel)",
   "language": "python",
   "name": "python3"
  },
  "language_info": {
   "codemirror_mode": {
    "name": "ipython",
    "version": 3
   },
   "file_extension": ".py",
   "mimetype": "text/x-python",
   "name": "python",
   "nbconvert_exporter": "python",
   "pygments_lexer": "ipython3",
   "version": "3.9.7"
  }
 },
 "nbformat": 4,
 "nbformat_minor": 5
}

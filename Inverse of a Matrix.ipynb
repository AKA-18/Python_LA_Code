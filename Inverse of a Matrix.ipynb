{
 "cells": [
  {
   "cell_type": "markdown",
   "id": "8757bb17",
   "metadata": {},
   "source": [
    "# Question 5"
   ]
  },
  {
   "cell_type": "markdown",
   "id": "4857354b",
   "metadata": {},
   "source": [
    "Write the Python function to generate the Inverse Matrix of 3 x 3 Matrix, without using NumPy \n",
    "libraries. (Use the function in Question No: 3 and 4)\n",
    "\n",
    "Write python code find out the Inverse of the given 3 X3 Matrix using this function.\n",
    "\n",
    "# Input:\n",
    "Elements of the 3 X 3 Matrix\n",
    "\n",
    "# Output:\n",
    "Inverse matrix of the given 3 x3 Matrix."
   ]
  },
  {
   "cell_type": "markdown",
   "id": "d3c95ffa",
   "metadata": {},
   "source": [
    "# Answer with code :"
   ]
  },
  {
   "cell_type": "markdown",
   "id": "18c4f14d",
   "metadata": {},
   "source": [
    "# Matrix - A Definition\n",
    "A matrix is a rectangular array of numbers or symbols which are generally arranged in rows and columns.The order of the matrix is defined as the number of rows and columns.The entries are the numbers in the matrix and each number is known as an element.The plural of matrix is matrices.The size of a matrix is referred to as ‘n by m’ matrix and is written as m×n, where n is the number of rows and m is the number of columns."
   ]
  },
  {
   "cell_type": "markdown",
   "id": "9d52c13e",
   "metadata": {},
   "source": [
    "# Inverse of a Matrix - A Definition and how to find it"
   ]
  },
  {
   "cell_type": "markdown",
   "id": "6bb706eb",
   "metadata": {},
   "source": [
    "Inverse of Matrix for a matrix A is denoted by A-1. The inverse of a 2 × 2 matrix can be calculated using a simple formula. Further, to find the inverse of a matrix of order 3 or higher, we need to know about the determinant and adjoint of the matrix. The inverse of matrix is another matrix, which on multiplying with the given matrix gives the multiplicative identity."
   ]
  },
  {
   "cell_type": "markdown",
   "id": "66bed8c8",
   "metadata": {},
   "source": [
    "# User Defined Function for Finding the Inverse of user inputed matrix "
   ]
  },
  {
   "cell_type": "markdown",
   "id": "340aac61",
   "metadata": {},
   "source": [
    "# Function for fetching the Inverse using determinant and adjoint of the matrix"
   ]
  },
  {
   "cell_type": "code",
   "execution_count": 19,
   "id": "e4a60e97",
   "metadata": {},
   "outputs": [],
   "source": [
    "def FetchMatrixInverse(fmd,fmt,m_row,m_col): #Function for matrix inverse\n",
    "    I = [([0]*m_col) for i in range(m_row)] #created empty matrix as same size as input matrix\n",
    "    if fmd==0: #checking if determinant is zero\n",
    "        print('the derminant is zero, cannot find the inverse')\n",
    "    else: #checking if determinant is non zero\n",
    "        for i in range(m_row):# Two variable to access the matrix elements \n",
    "            for j in range(m_col): #loop counter\n",
    "                I[i][j] = 1/fmd*fmt[i][j] #calculating the inverse of the matrix using determinant and adjoint \n",
    "        return I"
   ]
  },
  {
   "cell_type": "markdown",
   "id": "baa9633f",
   "metadata": {},
   "source": [
    "# Function for fetching the determinant using input matrix and minor matrix"
   ]
  },
  {
   "cell_type": "code",
   "execution_count": 20,
   "id": "6399d858",
   "metadata": {},
   "outputs": [],
   "source": [
    "def FetchMatrixDeterminant(m,fmm): #function for finding the determinant of niput matrix\n",
    "    D=m[len(m)-3][len(m)-3]*fmm[len(m)-3][len(m)-3]- m[len(m)-3][len(m)-2]*fmm[len(m)-3][len(m)-2]+m[len(m)-3][len(m)-1]*fmm[len(m)-3][len(m)-1] # multiplying first row element of input matrix to corresponding minor matrix elements to get determinant\n",
    "    return D    \n",
    "    "
   ]
  },
  {
   "cell_type": "markdown",
   "id": "3fefd6c2",
   "metadata": {},
   "source": [
    "# Function for fetching the Transpose of Cofactor matrix"
   ]
  },
  {
   "cell_type": "code",
   "execution_count": 21,
   "id": "13c961df",
   "metadata": {},
   "outputs": [],
   "source": [
    "def FetchMatrixTranspose(fmc,m_row,m_col): #function for finding the transpose \n",
    "    A = [([0]*m_col) for i in range(m_row)] #Here we creating an zero matrix 'M' having same size as our input matrix\n",
    "    for i in range(m_row):# Two variable to access the matrix elements \n",
    "        for j in range(m_col): #loop counter\n",
    "            A[j][i] = fmc[i][j] #logic of interchanging rows and columns of the matrix\n",
    "    return A #return Transpose Matrix"
   ]
  },
  {
   "cell_type": "markdown",
   "id": "fa7f4401",
   "metadata": {},
   "source": [
    "# Function for fetching the Cofactor matrix"
   ]
  },
  {
   "cell_type": "code",
   "execution_count": 22,
   "id": "23ddc729",
   "metadata": {},
   "outputs": [],
   "source": [
    "def FetchMatrixCofactor(m,fmm,m_row,m_col): #function for finding cofactor matrix\n",
    "    C = [([0]*m_col) for i in range(m_row)] #Here we creating an zero matrix 'M' having same size as our input matrix\n",
    "    for r in range(len(m)): # Two variable to access the matrix elements \n",
    "        for c in range(len(m)):  #loop counter\n",
    "            C[r][c]=(-1)**(r+c)*fmm[r][c] #fetching cofactor of the matrix logic\n",
    "    return C"
   ]
  },
  {
   "cell_type": "markdown",
   "id": "37585b75",
   "metadata": {},
   "source": [
    "# Function for fetching the Minor Matrix"
   ]
  },
  {
   "cell_type": "code",
   "execution_count": 23,
   "id": "1d294718",
   "metadata": {},
   "outputs": [],
   "source": [
    "def FetchMatrixMinor(m,m_row,m_col): #function for fetching minor matrix\n",
    "    M = [([0]*m_col) for i in range(m_row)] #Here we creating an zero matrix 'M' having same size as our input matrix\n",
    "    for r in range(len(m)+1): # Two variable to access the matrix elements \n",
    "        for c in range(len(m)+1):\n",
    "           M[len(m)-3][len(m)-3]=m[len(m)-2][len(m)-2]*m[len(m)-1][len(m)-1]-m[len(m)-2][len(m)-1]*m[len(m)-1][len(m)-2] #finding the M11 element of minor matrix by finding the determinant of sub-matrix obtainred by elimiating 1st row and 1st column   \n",
    "           M[len(m)-3][len(m)-2]=m[len(m)-2][len(m)-3]*m[len(m)-1][len(m)-1]-m[len(m)-2][len(m)-1]*m[len(m)-1][len(m)-3] #finding the M11 element of minor matrix by finding the determinant of sub-matrix obtainred by elimiating 1st row and 2nd column\n",
    "           M[len(m)-3][len(m)-1]=m[len(m)-2][len(m)-3]*m[len(m)-1][len(m)-2]-m[len(m)-2][len(m)-2]*m[len(m)-1][len(m)-3] #finding the M11 element of minor matrix by finding the determinant of sub-matrix obtainred by elimiating 1st row and 3rd column\n",
    "           M[len(m)-2][len(m)-3]=m[len(m)-3][len(m)-2]*m[len(m)-1][len(m)-1]-m[len(m)-3][len(m)-1]*m[len(m)-1][len(m)-2] #finding the M11 element of minor matrix by finding the determinant of sub-matrix obtainred by elimiating 2nd row and 1st column\n",
    "           M[len(m)-2][len(m)-2]=m[len(m)-3][len(m)-3]*m[len(m)-1][len(m)-1]-m[len(m)-3][len(m)-1]*m[len(m)-1][len(m)-3] #finding the M11 element of minor matrix by finding the determinant of sub-matrix obtainred by elimiating 2nd row and 2nd column\n",
    "           M[len(m)-2][len(m)-1]=m[len(m)-3][len(m)-3]*m[len(m)-1][len(m)-2]-m[len(m)-3][len(m)-2]*m[len(m)-1][len(m)-3] #finding the M11 element of minor matrix by finding the determinant of sub-matrix obtainred by elimiating 2nd row and 3rd column\n",
    "           M[len(m)-1][len(m)-3]=m[len(m)-3][len(m)-2]*m[len(m)-2][len(m)-1]-m[len(m)-3][len(m)-1]*m[len(m)-2][len(m)-2] #finding the M11 element of minor matrix by finding the determinant of sub-matrix obtainred by elimiating 3rd row and 1st column\n",
    "           M[len(m)-1][len(m)-2]=m[len(m)-3][len(m)-3]*m[len(m)-2][len(m)-1]-m[len(m)-3][len(m)-1]*m[len(m)-2][len(m)-3] #finding the M11 element of minor matrix by finding the determinant of sub-matrix obtainred by elimiating 3rd row and 2nd column\n",
    "           M[len(m)-1][len(m)-1]=m[len(m)-3][len(m)-3]*m[len(m)-2][len(m)-2]-m[len(m)-3][len(m)-2]*m[len(m)-2][len(m)-3] #finding the M11 element of minor matrix by finding the determinant of sub-matrix obtainred by elimiating 3rd row and 3rd column\n",
    "        return M"
   ]
  },
  {
   "cell_type": "markdown",
   "id": "998757f7",
   "metadata": {},
   "source": [
    "# Main Program"
   ]
  },
  {
   "cell_type": "code",
   "execution_count": 24,
   "id": "b0745fea",
   "metadata": {},
   "outputs": [
    {
     "name": "stdout",
     "output_type": "stream",
     "text": [
      "Enter number of row of matrix 1: 3\n",
      "Enter number of columns of matrix 1: 3\n",
      "column 1 -> Enter 1 element for Matrix One:2\n",
      "column 2 -> Enter 1 element for Matrix One:4\n",
      "column 3 -> Enter 1 element for Matrix One:8\n",
      "column 1 -> Enter 2 element for Matrix One:3\n",
      "column 2 -> Enter 2 element for Matrix One:9\n",
      "column 3 -> Enter 2 element for Matrix One:27\n",
      "column 1 -> Enter 3 element for Matrix One:4\n",
      "column 2 -> Enter 3 element for Matrix One:16\n",
      "column 3 -> Enter 3 element for Matrix One:64\n",
      "User Inputed Matrix: \n",
      "[2, 4, 8]\n",
      "[3, 9, 27]\n",
      "[4, 16, 64]\n",
      "The Adjoint Matrix\n",
      "[144, -128, 36]\n",
      "[-84, 96, -30]\n",
      "[12, -16, 6]\n",
      "The Determinant of Inputed matrix is : 48\n",
      "The Inverse of User Input Matrix\n",
      "[3.0, -2.6666666666666665, 0.75]\n",
      "[-1.75, 2.0, -0.625]\n",
      "[0.25, -0.3333333333333333, 0.125]\n"
     ]
    }
   ],
   "source": [
    "#Taking the number of rows and columns for matrix as input from the user\n",
    "m_row = int(input('Enter number of row of matrix 1: '))\n",
    "m_col = int(input('Enter number of columns of matrix 1: '))\n",
    "\n",
    "#Create a first matrix using input() function and nested list comprehension\n",
    "m = [[int(input(f'column {j+1} -> Enter {i+1} element for Matrix One:')) for j in range(m_col)] for i in range(m_row)]\n",
    "\n",
    "#Print inputed Matrix\n",
    "print('User Inputed Matrix: ')\n",
    "for i in m:\n",
    "    print(i)\n",
    "\n",
    "#calling the function FetchMatrixMinor passing row number, column number and matrix itself, for fetching minor matrix of inputed matrix\n",
    "fmm = FetchMatrixMinor(m,m_row,m_col)\n",
    "#calling the function FetchMatrixCofactor passing row number, column number and matrix,minor matrix , for fetching cofactor matrix of inputed minior matrix\n",
    "fmc=FetchMatrixCofactor(m,fmm,m_row,m_col)\n",
    "#calling the function FetchMatrixTranspose passing row number, column number and cofactor matrix , for fetching adjoint matrix of inputed cofactor matrix\n",
    "fmt=FetchMatrixTranspose(fmc,m_row,m_col)\n",
    "print('The Adjoint Matrix')\n",
    "for i in fmt: #printing the adjoint matrix as a 3X3 matrix from the returned cofactor matrix\n",
    "    print(i)\n",
    "fmd=FetchMatrixDeterminant(m,fmm)\n",
    "print('The Determinant of Inputed matrix is :',fmd)\n",
    "fmi=FetchMatrixInverse(fmd,fmt,m_row,m_col)\n",
    "print('The Inverse of User Input Matrix')\n",
    "for i in fmi:\n",
    "    print(i)"
   ]
  },
  {
   "cell_type": "code",
   "execution_count": null,
   "id": "880ea669",
   "metadata": {},
   "outputs": [],
   "source": []
  }
 ],
 "metadata": {
  "kernelspec": {
   "display_name": "Python 3 (ipykernel)",
   "language": "python",
   "name": "python3"
  },
  "language_info": {
   "codemirror_mode": {
    "name": "ipython",
    "version": 3
   },
   "file_extension": ".py",
   "mimetype": "text/x-python",
   "name": "python",
   "nbconvert_exporter": "python",
   "pygments_lexer": "ipython3",
   "version": "3.9.7"
  }
 },
 "nbformat": 4,
 "nbformat_minor": 5
}

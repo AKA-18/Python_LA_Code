{
 "cells": [
  {
   "cell_type": "markdown",
   "id": "8757bb17",
   "metadata": {},
   "source": [
    "# Question 6a"
   ]
  },
  {
   "cell_type": "markdown",
   "id": "4857354b",
   "metadata": {},
   "source": [
    "Write the python code to the solution above set of equations using Matrix inverse method\n",
    "\n",
    "without using NumPy library. (Use the functions in question Number 5 and function for matrix multiplication in question number 1 in assignment No. 1).\n",
    "\n",
    "# Input:\n",
    "Augmented matrix corresponding to system of linear equations consisting of three equations \n",
    "made up of three variables\n",
    "\n",
    "# Output:\n",
    "Solution Matrix.\n"
   ]
  },
  {
   "cell_type": "markdown",
   "id": "d3c95ffa",
   "metadata": {},
   "source": [
    "# Answer with code :"
   ]
  },
  {
   "cell_type": "markdown",
   "id": "18c4f14d",
   "metadata": {},
   "source": [
    "# Matrix - A Definition\n",
    "A matrix is a rectangular array of numbers or symbols which are generally arranged in rows and columns.The order of the matrix is defined as the number of rows and columns.The entries are the numbers in the matrix and each number is known as an element.The plural of matrix is matrices.The size of a matrix is referred to as ‘n by m’ matrix and is written as m×n, where n is the number of rows and m is the number of columns."
   ]
  },
  {
   "cell_type": "markdown",
   "id": "9d52c13e",
   "metadata": {},
   "source": [
    "# Solving System of Linear Equation"
   ]
  },
  {
   "cell_type": "markdown",
   "id": "6bb706eb",
   "metadata": {},
   "source": [
    "we can find the values of x, y and z (the X matrix) by multiplying the inverse of the A matrix by the B matrix."
   ]
  },
  {
   "cell_type": "markdown",
   "id": "66bed8c8",
   "metadata": {},
   "source": [
    "# User Defined Function for Finding the Inverse of user inputed matrix "
   ]
  },
  {
   "cell_type": "code",
   "execution_count": 2,
   "id": "e54443ec",
   "metadata": {},
   "outputs": [],
   "source": [
    "def FetchMatrixMultiplication(fmi,b): #function for performing matrix multiplication\n",
    "    result=[[0 for i in range(1)] for i in range(m1_row)] #creating the result matrix\n",
    "    for i in range(len(fmi)): #looping counter \n",
    "        for j in range(len(b[0])): #looping counter\n",
    "            for k in range(len(b)): #looping counter\n",
    "                result [i][j]+=fmi[i][k]*b[k][j] #matrix multiplication logic for multiplying 2 matrix.\n",
    "    return result   "
   ]
  },
  {
   "cell_type": "markdown",
   "id": "340aac61",
   "metadata": {},
   "source": [
    "# Function for fetching the Inverse using determinant and adjoint of the matrix"
   ]
  },
  {
   "cell_type": "code",
   "execution_count": 3,
   "id": "e4a60e97",
   "metadata": {},
   "outputs": [],
   "source": [
    "def FetchMatrixInverse(fmd,fmt,m_row,m_col): #function for finding matrix inverse\n",
    "    I = [([0]*m_col) for i in range(m_row)] #decalaring an empty matrix as same size as Input matrix\n",
    "    if fmd==0: #checking if the determiant is zero or not\n",
    "        print('the derminant is zero, cannot find the inverse')\n",
    "    else: #checking if the determinant is zero or not \n",
    "        for i in range(m_row):# Two variable to access the matrix elements \n",
    "            for j in range(m_col):\n",
    "                I[i][j] = 1/fmd*fmt[i][j] #logic for finding the inverse of the matrix\n",
    "        return I #return inverse value"
   ]
  },
  {
   "cell_type": "markdown",
   "id": "baa9633f",
   "metadata": {},
   "source": [
    "# Function for fetching the determinant using input matrix and minor matrix"
   ]
  },
  {
   "cell_type": "code",
   "execution_count": 4,
   "id": "6399d858",
   "metadata": {},
   "outputs": [],
   "source": [
    "def FetchMatrixDeterminant(m,fmm): #function for finding the determinant of input matrix\n",
    "    D=m[len(m)-3][len(m)-3]*fmm[len(m)-3][len(m)-3]- m[len(m)-3][len(m)-2]*fmm[len(m)-3][len(m)-2]+m[len(m)-3][len(m)-1]*fmm[len(m)-3][len(m)-1] # multiplying first row element of input matrix to corresponding minor matrix elements to get determinant\n",
    "    return D #returning determinant     \n",
    "    "
   ]
  },
  {
   "cell_type": "markdown",
   "id": "3fefd6c2",
   "metadata": {},
   "source": [
    "# Function for fetching the Transpose of Cofactor matrix"
   ]
  },
  {
   "cell_type": "code",
   "execution_count": 5,
   "id": "13c961df",
   "metadata": {},
   "outputs": [],
   "source": [
    "def FetchMatrixTranspose(fmc,m_row,m_col): #function for finding the transpose of the input matrix.\n",
    "    A = [([0]*m_col) for i in range(m_row)] #Here we creating an zero matrix 'M' having same size as our input matrix\n",
    "    for i in range(m_row):# Two variable to access the matrix elements \n",
    "        for j in range(m_col):\n",
    "            A[j][i] = fmc[i][j] #logic of interchanging rows and columns of the matrix\n",
    "    return A"
   ]
  },
  {
   "cell_type": "markdown",
   "id": "fa7f4401",
   "metadata": {},
   "source": [
    "# Function for fetching the Cofactor matrix"
   ]
  },
  {
   "cell_type": "code",
   "execution_count": 6,
   "id": "23ddc729",
   "metadata": {},
   "outputs": [],
   "source": [
    "def FetchMatrixCofactor(m,fmm,m_row,m_col): #function for finding the matrix confactor\n",
    "    C = [([0]*m_col) for i in range(m_row)] #Here we creating an zero matrix 'M' having same size as our input matrix\n",
    "    for r in range(len(m)): # Two variable to access the matrix elements \n",
    "        for c in range(len(m)):\n",
    "            C[r][c]=(-1)**(r+c)*fmm[r][c] #logic for finding the cofactor finding cofactor matrix\n",
    "    return C"
   ]
  },
  {
   "cell_type": "markdown",
   "id": "37585b75",
   "metadata": {},
   "source": [
    "# Function for fetching the Minor Matrix"
   ]
  },
  {
   "cell_type": "code",
   "execution_count": 7,
   "id": "1d294718",
   "metadata": {},
   "outputs": [],
   "source": [
    "def FetchMatrixMinor(m,m_row,m_col):\n",
    "    M = [([0]*m_col) for i in range(m_row)] #Here we creating an zero matrix 'M' having same size as our input matrix\n",
    "    for r in range(len(m)+1): # Two variable to access the matrix elements \n",
    "        for c in range(len(m)+1):\n",
    "           M[len(m)-3][len(m)-3]=m[len(m)-2][len(m)-2]*m[len(m)-1][len(m)-1]-m[len(m)-2][len(m)-1]*m[len(m)-1][len(m)-2] #finding the M11 element of minor matrix by finding the determinant of sub-matrix obtainred by elimiating 1st row and 1st column   \n",
    "           M[len(m)-3][len(m)-2]=m[len(m)-2][len(m)-3]*m[len(m)-1][len(m)-1]-m[len(m)-2][len(m)-1]*m[len(m)-1][len(m)-3] #finding the M11 element of minor matrix by finding the determinant of sub-matrix obtainred by elimiating 1st row and 2nd column\n",
    "           M[len(m)-3][len(m)-1]=m[len(m)-2][len(m)-3]*m[len(m)-1][len(m)-2]-m[len(m)-2][len(m)-2]*m[len(m)-1][len(m)-3] #finding the M11 element of minor matrix by finding the determinant of sub-matrix obtainred by elimiating 1st row and 3rd column\n",
    "           M[len(m)-2][len(m)-3]=m[len(m)-3][len(m)-2]*m[len(m)-1][len(m)-1]-m[len(m)-3][len(m)-1]*m[len(m)-1][len(m)-2] #finding the M11 element of minor matrix by finding the determinant of sub-matrix obtainred by elimiating 2nd row and 1st column\n",
    "           M[len(m)-2][len(m)-2]=m[len(m)-3][len(m)-3]*m[len(m)-1][len(m)-1]-m[len(m)-3][len(m)-1]*m[len(m)-1][len(m)-3] #finding the M11 element of minor matrix by finding the determinant of sub-matrix obtainred by elimiating 2nd row and 2nd column\n",
    "           M[len(m)-2][len(m)-1]=m[len(m)-3][len(m)-3]*m[len(m)-1][len(m)-2]-m[len(m)-3][len(m)-2]*m[len(m)-1][len(m)-3] #finding the M11 element of minor matrix by finding the determinant of sub-matrix obtainred by elimiating 2nd row and 3rd column\n",
    "           M[len(m)-1][len(m)-3]=m[len(m)-3][len(m)-2]*m[len(m)-2][len(m)-1]-m[len(m)-3][len(m)-1]*m[len(m)-2][len(m)-2] #finding the M11 element of minor matrix by finding the determinant of sub-matrix obtainred by elimiating 3rd row and 1st column\n",
    "           M[len(m)-1][len(m)-2]=m[len(m)-3][len(m)-3]*m[len(m)-2][len(m)-1]-m[len(m)-3][len(m)-1]*m[len(m)-2][len(m)-3] #finding the M11 element of minor matrix by finding the determinant of sub-matrix obtainred by elimiating 3rd row and 2nd column\n",
    "           M[len(m)-1][len(m)-1]=m[len(m)-3][len(m)-3]*m[len(m)-2][len(m)-2]-m[len(m)-3][len(m)-2]*m[len(m)-2][len(m)-3] #finding the M11 element of minor matrix by finding the determinant of sub-matrix obtainred by elimiating 3rd row and 3rd column\n",
    "        return M"
   ]
  },
  {
   "cell_type": "markdown",
   "id": "998757f7",
   "metadata": {},
   "source": [
    "# Main Program"
   ]
  },
  {
   "cell_type": "code",
   "execution_count": 12,
   "id": "b0745fea",
   "metadata": {},
   "outputs": [
    {
     "name": "stdout",
     "output_type": "stream",
     "text": [
      "Enter number of row of matrix A: 3\n",
      "Enter number of columns of matrix A: 3\n",
      "column 1 -> Enter 1 element for Matrix A:1\n",
      "column 2 -> Enter 1 element for Matrix A:1\n",
      "column 3 -> Enter 1 element for Matrix A:-1\n",
      "column 1 -> Enter 2 element for Matrix A:0\n",
      "column 2 -> Enter 2 element for Matrix A:1\n",
      "column 3 -> Enter 2 element for Matrix A:5\n",
      "column 1 -> Enter 3 element for Matrix A:0\n",
      "column 2 -> Enter 3 element for Matrix A:0\n",
      "column 3 -> Enter 3 element for Matrix A:1\n",
      "User Inputed Matrix: \n",
      "[1, 1, -1]\n",
      "[0, 1, 5]\n",
      "[0, 0, 1]\n",
      "column 1 -> Enter 1 element for Matrix b:5\n",
      "column 1 -> Enter 2 element for Matrix b:8\n",
      "column 1 -> Enter 3 element for Matrix b:-1\n",
      "User Inputed Matrix: \n",
      "[5]\n",
      "[8]\n",
      "[-1]\n",
      "The Adjoint Matrix\n",
      "[1, -1, 6]\n",
      "[0, 1, -5]\n",
      "[0, 0, 1]\n",
      "The Determinant of Inputed matrix is : 1\n",
      "The derminant is non zero, Non-Singular Matrix,the system is having unique solution, we are checking for solution\n",
      "The Coordinates are as following : \n",
      "[-9.0]\n",
      "[13.0]\n",
      "[-1.0]\n"
     ]
    }
   ],
   "source": [
    "#Taking the number of rows and columns for matrix as input from the user\n",
    "m_row = int(input('Enter number of row of matrix A: '))\n",
    "m_col = int(input('Enter number of columns of matrix A: '))\n",
    "\n",
    "#Create a first matrix using input() function and nested list comprehension\n",
    "m = [[int(input(f'column {j+1} -> Enter {i+1} element for Matrix A:')) for j in range(m_col)] for i in range(m_row)]\n",
    "\n",
    "#Print inputed Matrix\n",
    "print('User Inputed Matrix: ')\n",
    "for i in m:\n",
    "    print(i)\n",
    "    \n",
    "#predefining number of rows and columns for matrix b\n",
    "m1_row = 3\n",
    "m1_col = 1\n",
    "\n",
    "#Create a first matrix using input() function and nested list comprehension\n",
    "b = [[int(input(f'column {j+1} -> Enter {i+1} element for Matrix b:')) for j in range(m1_col)] for i in range(m1_row)]\n",
    "\n",
    "#Print inputed Matrix\n",
    "print('User Inputed Matrix: ')\n",
    "for i in b:\n",
    "    print(i)\n",
    "\n",
    "#calling the function FetchMatrixMinor passing row number, column number and matrix itself, for fetching minor matrix of inputed matrix\n",
    "fmm = FetchMatrixMinor(m,m_row,m_col)\n",
    "#calling the function FetchMatrixCofactor passing row number, column number and matrix,minor matrix , for fetching cofactor matrix of inputed minior matrix\n",
    "fmc=FetchMatrixCofactor(m,fmm,m_row,m_col)\n",
    "#calling the function FetchMatrixTranspose passing row number, column number and cofactor matrix , for fetching adjoint matrix of inputed cofactor matrix\n",
    "fmt=FetchMatrixTranspose(fmc,m_row,m_col)\n",
    "print('The Adjoint Matrix')\n",
    "for i in fmt: #printing the adjoint matrix as a 3X3 matrix from the returned cofactor matrix\n",
    "    print(i)\n",
    "#calling the matrix determinant function to find the determinant of the given matrix    \n",
    "fmd=FetchMatrixDeterminant(m,fmm)\n",
    "print('The Determinant of Inputed matrix is :',fmd)\n",
    "#calling the matrix inverse function to find the inverse of the given matrix.\n",
    "fmi=FetchMatrixInverse(fmd,fmt,m_row,m_col)\n",
    "if fmd!=0: #if the determinant is zero we go to find the unique solution to the system.\n",
    "        print('The derminant is non zero, Non-Singular Matrix,the system is having unique solution, we are checking for solution')\n",
    "        print('The Coordinates are as following : ')\n",
    "        fmm=FetchMatrixMultiplication(fmi,b)\n",
    "        for i in fmm: #printing the adjoint matrix as a 3X3 matrix from the returned cofactor matrix\n",
    "            print(i)\n",
    "else: # if the determinant is zero then we try to understand if the system is having infinte many solution or no solution.\n",
    "    fsm=FetchMatrixMultiplication(fmt,b)\n",
    "    if fsm!=[[0], [0], [0]]:\n",
    "        print('since (adj A)B !=0 , the system is having No Solution')\n",
    "    else:\n",
    "        print('since (adj A)B =0, system is having infinte many solution')\n",
    "    \n",
    "    "
   ]
  },
  {
   "cell_type": "markdown",
   "id": "e80a00e3",
   "metadata": {},
   "source": [
    "# Question 6b"
   ]
  },
  {
   "cell_type": "markdown",
   "id": "f8073ebf",
   "metadata": {},
   "source": [
    "# Cramer’s rule "
   ]
  },
  {
   "cell_type": "markdown",
   "id": "5be860c7",
   "metadata": {},
   "source": [
    "Cramer’s rule is one of the important methods applied to solve a system of equations. In this method, the values of the variables in the system are to be calculated using the determinants of matrices. Thus, Cramer’s rule is also known as the determinant method."
   ]
  },
  {
   "cell_type": "markdown",
   "id": "8b481e13",
   "metadata": {},
   "source": [
    "# Cramer’s Rule Formula\n",
    "Consider a system of linear equations with n variables x₁, x₂, x₃, …, xₙ written in the matrix form AX = B.\n",
    "\n",
    "Here,\n",
    "\n",
    "A = Coefficient matrix (must be a square matrix)\n",
    "\n",
    "X = Column matrix with variables\n",
    "\n",
    "B = Column matrix with the constants (which are on the right side of the equations)\n",
    "\n",
    "Now, we have to find the determinants as:\n",
    "\n",
    "D = |A|, Dx1, Dx2, Dx3,…, Dxn\n",
    "\n",
    "Here, Dxi for i = 1, 2, 3,…, n is the same determinant as D such that the column is replaced with B.\n",
    "\n",
    "Thus,\n",
    "\n",
    "x1 = Dx1/D; x2 = Dx2/D; x3 = Dx3/D; ….; xn = Dxn/D {where D is not equal to 0}"
   ]
  },
  {
   "cell_type": "markdown",
   "id": "76cf0708",
   "metadata": {},
   "source": [
    "# Solution using Cramer’s rule"
   ]
  },
  {
   "cell_type": "code",
   "execution_count": 16,
   "id": "560ab20b",
   "metadata": {},
   "outputs": [
    {
     "name": "stdout",
     "output_type": "stream",
     "text": [
      "The Adjoint Matrix\n",
      "[1, -1, 6]\n",
      "[0, 1, -5]\n",
      "[0, 0, 1]\n",
      "The Determinant of Inputed matrix is : 1\n",
      "The system is having unique number of solutions, calculating the coordinates\n",
      "The Ax Matrix is given as follows\n",
      "[5, 1, -1]\n",
      "[8, 1, 5]\n",
      "[-1, 0, 1]\n",
      "The Adjoint Matrix\n",
      "[1, -1, 6]\n",
      "[-13, 4, -33]\n",
      "[1, -1, -3]\n",
      "The Determinant of matrix Ax is : -9\n",
      "The Ay Matrix is given as follows\n",
      "[1, 5, -1]\n",
      "[0, 8, 5]\n",
      "[0, -1, 1]\n",
      "The Adjoint Matrix\n",
      "[13, -4, 33]\n",
      "[0, 1, -5]\n",
      "[0, 1, 8]\n",
      "The Determinant of matrix Ay is : 13\n",
      "The Az Matrix is given as follows\n",
      "[1, 1, 5]\n",
      "[0, 1, 8]\n",
      "[0, 0, -1]\n",
      "The Adjoint Matrix\n",
      "[-1, 1, 3]\n",
      "[0, -1, -8]\n",
      "[0, 0, 1]\n",
      "The Determinant of matrix Az is : -1\n",
      " \n",
      "The X-Coordinates is -9.0\n",
      "The Y-Coordinates is 13.0\n",
      "The Z-Coordinates is -1.0\n"
     ]
    }
   ],
   "source": [
    "#calling the function FetchMatrixMinor passing row number, column number and matrix itself, for fetching minor matrix of inputed matrix\n",
    "fmm = FetchMatrixMinor(m,m_row,m_col)\n",
    "#calling the function FetchMatrixCofactor passing row number, column number and matrix,minor matrix , for fetching cofactor matrix of inputed minior matrix\n",
    "fmc=FetchMatrixCofactor(m,fmm,m_row,m_col)\n",
    "#calling the function FetchMatrixTranspose passing row number, column number and cofactor matrix , for fetching adjoint matrix of inputed cofactor matrix\n",
    "fmt=FetchMatrixTranspose(fmc,m_row,m_col)\n",
    "print('The Adjoint Matrix')\n",
    "for i in fmt: #printing the adjoint matrix as a 3X3 matrix from the returned cofactor matrix\n",
    "    print(i)\n",
    "#calling the matrix determinant function to find the determinant of the given matrix    \n",
    "D=FetchMatrixDeterminant(m,fmm)\n",
    "print('The Determinant of Inputed matrix is :',D)\n",
    "if D!=0:\n",
    "    print('The system is having unique number of solutions, calculating the coordinates')\n",
    "    Ax= [x[:] for x in m] #cloning matrix for Ax matrix\n",
    "    Ay= [x[:] for x in m] #cloning matrix for Ay matrix\n",
    "    Az= [x[:] for x in m] #cloning matrix for Az matrix\n",
    "    #for matrix Ax\n",
    "    for r in range(len(m)+1): # Two variable to access the matrix elements \n",
    "        for c in range(len(m)+1):\n",
    "           Ax[0][0]=b[0][0]\n",
    "           Ax[1][0]=b[1][0]\n",
    "           Ax[2][0]=b[2][0]\n",
    "    print('The Ax Matrix is given as follows')\n",
    "    for i in Ax:\n",
    "        print(i)\n",
    "    #calling the function FetchMatrixMinor passing row number, column number and matrix itself, for fetching minor matrix of inputed matrix\n",
    "    fmm = FetchMatrixMinor(Ax,m_row,m_col)\n",
    "    #calling the function FetchMatrixCofactor passing row number, column number and matrix,minor matrix , for fetching cofactor matrix of inputed minior matrix\n",
    "    fmc=FetchMatrixCofactor(Ax,fmm,m_row,m_col)\n",
    "    #calling the function FetchMatrixTranspose passing row number, column number and cofactor matrix , for fetching adjoint matrix of inputed cofactor matrix\n",
    "    fmt=FetchMatrixTranspose(fmc,m_row,m_col)\n",
    "    print('The Adjoint Matrix')\n",
    "    for i in fmt: #printing the adjoint matrix as a 3X3 matrix from the returned cofactor matrix\n",
    "        print(i)\n",
    "    #calling the matrix determinant function to find the determinant of the given matrix    \n",
    "    Dx=FetchMatrixDeterminant(Ax,fmm)\n",
    "    print('The Determinant of matrix Ax is :',Dx)\n",
    "\n",
    "    #for matrix Ay\n",
    "    for r in range(len(m)+1): # Two variable to access the matrix elements \n",
    "        for c in range(len(m)+1):\n",
    "           Ay[0][1]=b[0][0]\n",
    "           Ay[1][1]=b[1][0]\n",
    "           Ay[2][1]=b[2][0]\n",
    "    print('The Ay Matrix is given as follows')\n",
    "    for i in Ay:\n",
    "        print(i)\n",
    "    #calling the function FetchMatrixMinor passing row number, column number and matrix itself, for fetching minor matrix of inputed matrix\n",
    "    fmm = FetchMatrixMinor(Ay,m_row,m_col)\n",
    "    #calling the function FetchMatrixCofactor passing row number, column number and matrix,minor matrix , for fetching cofactor matrix of inputed minior matrix\n",
    "    fmc=FetchMatrixCofactor(m,fmm,m_row,m_col)\n",
    "    #calling the function FetchMatrixTranspose passing row number, column number and cofactor matrix , for fetching adjoint matrix of inputed cofactor matrix\n",
    "    fmt=FetchMatrixTranspose(fmc,m_row,m_col)\n",
    "    print('The Adjoint Matrix')\n",
    "    for i in fmt: #printing the adjoint matrix as a 3X3 matrix from the returned cofactor matrix\n",
    "        print(i)\n",
    "    #calling the matrix determinant function to find the determinant of the given matrix    \n",
    "    Dy=FetchMatrixDeterminant(Ay,fmm)\n",
    "    print('The Determinant of matrix Ay is :',Dy)\n",
    "    # for matrix Az matrix\n",
    "    for r in range(len(m)+1): # Two variable to access the matrix elements \n",
    "        for c in range(len(m)+1):\n",
    "           Az[0][2]=b[0][0]\n",
    "           Az[1][2]=b[1][0]\n",
    "           Az[2][2]=b[2][0]\n",
    "    print('The Az Matrix is given as follows')\n",
    "    for i in Az:\n",
    "        print(i)\n",
    "    #calling the function FetchMatrixMinor passing row number, column number and matrix itself, for fetching minor matrix of inputed matrix\n",
    "    fmm = FetchMatrixMinor(Az,m_row,m_col)\n",
    "    #calling the function FetchMatrixCofactor passing row number, column number and matrix,minor matrix , for fetching cofactor matrix of inputed minior matrix\n",
    "    fmc=FetchMatrixCofactor(m,fmm,m_row,m_col)\n",
    "    #calling the function FetchMatrixTranspose passing row number, column number and cofactor matrix , for fetching adjoint matrix of inputed cofactor matrix\n",
    "    fmt=FetchMatrixTranspose(fmc,m_row,m_col)\n",
    "    print('The Adjoint Matrix')\n",
    "    for i in fmt: #printing the adjoint matrix as a 3X3 matrix from the returned cofactor matrix\n",
    "        print(i)\n",
    "    #calling the matrix determinant function to find the determinant of the given matrix    \n",
    "    Dz=FetchMatrixDeterminant(Az,fmm)\n",
    "    print('The Determinant of matrix Az is :',Dz)\n",
    "    X=Dx/D\n",
    "    Y=Dy/D\n",
    "    Z=Dz/D\n",
    "    print(' ')\n",
    "    print('The X-Coordinates is', X)\n",
    "    print('The Y-Coordinates is', Y)\n",
    "    print('The Z-Coordinates is', Z)\n",
    "else:\n",
    "    Ax= [x[:] for x in m] #cloning matrix for Ax matrix\n",
    "    Ay= [x[:] for x in m] #cloning matrix for Ay matrix\n",
    "    Az= [x[:] for x in m] #cloning matrix for Az matrix\n",
    "    #for matrix Ax\n",
    "    for r in range(len(m)+1): # Two variable to access the matrix elements \n",
    "        for c in range(len(m)+1):\n",
    "           Ax[0][0]=b[0][0]\n",
    "           Ax[1][0]=b[1][0]\n",
    "           Ax[2][0]=b[2][0]\n",
    "    print('The Ax Matrix is given as follows')\n",
    "    for i in Ax:\n",
    "        print(i)\n",
    "    #calling the function FetchMatrixMinor passing row number, column number and matrix itself, for fetching minor matrix of inputed matrix\n",
    "    fmm = FetchMatrixMinor(Ax,m_row,m_col)\n",
    "    #calling the function FetchMatrixCofactor passing row number, column number and matrix,minor matrix , for fetching cofactor matrix of inputed minior matrix\n",
    "    fmc=FetchMatrixCofactor(Ax,fmm,m_row,m_col)\n",
    "    #calling the function FetchMatrixTranspose passing row number, column number and cofactor matrix , for fetching adjoint matrix of inputed cofactor matrix\n",
    "    fmt=FetchMatrixTranspose(fmc,m_row,m_col)\n",
    "    print('The Adjoint Matrix')\n",
    "    for i in fmt: #printing the adjoint matrix as a 3X3 matrix from the returned cofactor matrix\n",
    "        print(i)\n",
    "    #calling the matrix determinant function to find the determinant of the given matrix    \n",
    "    Dx=FetchMatrixDeterminant(Ax,fmm)\n",
    "    print('The Determinant of matrix Ax is :',Dx)\n",
    "    #for matrix Ay\n",
    "    for r in range(len(m)+1): # Two variable to access the matrix elements \n",
    "        for c in range(len(m)+1):\n",
    "           Ay[0][1]=b[0][0]\n",
    "           Ay[1][1]=b[1][0]\n",
    "           Ay[2][1]=b[2][0]\n",
    "    print('The Ay Matrix is given as follows')\n",
    "    for i in Ay:\n",
    "        print(i)\n",
    "    #calling the function FetchMatrixMinor passing row number, column number and matrix itself, for fetching minor matrix of inputed matrix\n",
    "    fmm = FetchMatrixMinor(Ay,m_row,m_col)\n",
    "    #calling the function FetchMatrixCofactor passing row number, column number and matrix,minor matrix , for fetching cofactor matrix of inputed minior matrix\n",
    "    fmc=FetchMatrixCofactor(m,fmm,m_row,m_col)\n",
    "    #calling the function FetchMatrixTranspose passing row number, column number and cofactor matrix , for fetching adjoint matrix of inputed cofactor matrix\n",
    "    fmt=FetchMatrixTranspose(fmc,m_row,m_col)\n",
    "    print('The Adjoint Matrix')\n",
    "    for i in fmt: #printing the adjoint matrix as a 3X3 matrix from the returned cofactor matrix\n",
    "        print(i)\n",
    "    #calling the matrix determinant function to find the determinant of the given matrix    \n",
    "    Dy=FetchMatrixDeterminant(Ay,fmm)\n",
    "    print('The Determinant of matrix Ay is :',Dy)\n",
    "    # for matrix Az matrix\n",
    "    for r in range(len(m)+1): # Two variable to access the matrix elements \n",
    "        for c in range(len(m)+1):\n",
    "           Az[0][2]=b[0][0]\n",
    "           Az[1][2]=b[1][0]\n",
    "           Az[2][2]=b[2][0]\n",
    "    print('The Az Matrix is given as follows')\n",
    "    for i in Az:\n",
    "        print(i)\n",
    "    #calling the function FetchMatrixMinor passing row number, column number and matrix itself, for fetching minor matrix of inputed matrix\n",
    "    fmm = FetchMatrixMinor(Az,m_row,m_col)\n",
    "    #calling the function FetchMatrixCofactor passing row number, column number and matrix,minor matrix , for fetching cofactor matrix of inputed minior matrix\n",
    "    fmc=FetchMatrixCofactor(m,fmm,m_row,m_col)\n",
    "    #calling the function FetchMatrixTranspose passing row number, column number and cofactor matrix , for fetching adjoint matrix of inputed cofactor matrix\n",
    "    fmt=FetchMatrixTranspose(fmc,m_row,m_col)\n",
    "    print('The Adjoint Matrix')\n",
    "    for i in fmt: #printing the adjoint matrix as a 3X3 matrix from the returned cofactor matrix\n",
    "        print(i)\n",
    "    #calling the matrix determinant function to find the determinant of the given matrix    \n",
    "    Dz=FetchMatrixDeterminant(Az,fmm)\n",
    "    if Dx==0 or Dy==0 or Dz==0:\n",
    "        print('The system is having Infinte Solution')\n",
    "    elif Dx!=0 and Dy!=0 and Dz!=0:\n",
    "        print('The System is having No Solution')"
   ]
  },
  {
   "cell_type": "markdown",
   "id": "91b45500",
   "metadata": {},
   "source": [
    "# Solution for System of Linear Equations using numpy method"
   ]
  },
  {
   "cell_type": "code",
   "execution_count": 18,
   "id": "fe6b94a8",
   "metadata": {},
   "outputs": [
    {
     "data": {
      "text/plain": [
       "array([[-9.],\n",
       "       [13.],\n",
       "       [-1.]])"
      ]
     },
     "execution_count": 18,
     "metadata": {},
     "output_type": "execute_result"
    }
   ],
   "source": [
    "import numpy as np #importing libraries\n",
    "A = np.array(m) #creating numpy array for input matrix\n",
    "b = np.array(b) #creating numpy array for b matrix\n",
    "x = np.linalg.solve(A, b) #solving the system of linear equations\n",
    "x"
   ]
  },
  {
   "cell_type": "code",
   "execution_count": null,
   "id": "c56a078b",
   "metadata": {},
   "outputs": [],
   "source": []
  }
 ],
 "metadata": {
  "kernelspec": {
   "display_name": "Python 3 (ipykernel)",
   "language": "python",
   "name": "python3"
  },
  "language_info": {
   "codemirror_mode": {
    "name": "ipython",
    "version": 3
   },
   "file_extension": ".py",
   "mimetype": "text/x-python",
   "name": "python",
   "nbconvert_exporter": "python",
   "pygments_lexer": "ipython3",
   "version": "3.9.7"
  }
 },
 "nbformat": 4,
 "nbformat_minor": 5
}

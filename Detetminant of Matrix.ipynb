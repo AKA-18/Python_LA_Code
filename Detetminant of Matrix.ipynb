{
 "cells": [
  {
   "cell_type": "markdown",
   "id": "c7d6a74e",
   "metadata": {},
   "source": [
    "# Question 4"
   ]
  },
  {
   "cell_type": "markdown",
   "id": "35c924d1",
   "metadata": {},
   "source": [
    "Write the Python function to find the determinant of a 3 x 3 matrix. \n",
    "(Hint: You may limit the functions in question 1 and 2 to only the first row of the 3 x Matrix \n",
    "and find the sum) \n",
    "\n",
    "Write python code find out determinant of the given 3 X3 Matrix using this function.\n",
    "# Input:\n",
    "Elements of the 3 X 3 Matrix\n",
    "\n",
    "# Output:\n",
    "Determinant of the Matrix.\n",
    "\n",
    "Verify your result using NumPy Library"
   ]
  },
  {
   "cell_type": "markdown",
   "id": "8681bcf2",
   "metadata": {},
   "source": [
    "# Answer with code :"
   ]
  },
  {
   "cell_type": "markdown",
   "id": "44aca259",
   "metadata": {},
   "source": [
    "# Matrix - A Definition\n",
    "A matrix is a rectangular array of numbers or symbols which are generally arranged in rows and columns.The order of the matrix is defined as the number of rows and columns.The entries are the numbers in the matrix and each number is known as an element.The plural of matrix is matrices.The size of a matrix is referred to as ‘n by m’ matrix and is written as m×n, where n is the number of rows and m is the number of columns."
   ]
  },
  {
   "cell_type": "markdown",
   "id": "ffc63bd3",
   "metadata": {},
   "source": [
    "# Determinant of a Matrix - A Definition and how to find it"
   ]
  },
  {
   "cell_type": "markdown",
   "id": "b54302a7",
   "metadata": {},
   "source": [
    "The determinant of a matrix is a function that maps every square matrix to a unique number (real number or complex number). If A is the set of all square matrices (of all orders) and B is the set of all numbers (both real and complex) then the determinant function f is f : A → B and is defined as f(x) = y, where 'y' is the determinant of matrix 'x'."
   ]
  },
  {
   "cell_type": "markdown",
   "id": "3f85381f",
   "metadata": {},
   "source": [
    "# User Defined Function for Finding the determinant of used inputed matrix "
   ]
  },
  {
   "cell_type": "markdown",
   "id": "1364afa4",
   "metadata": {},
   "source": [
    "# Function for fetching the determinant using input matrix and minor matrix"
   ]
  },
  {
   "cell_type": "code",
   "execution_count": 1,
   "id": "889e040a",
   "metadata": {},
   "outputs": [],
   "source": [
    "def FetchMatrixDeterminant(m,fmm): #function for finding the determinant of niput matrix\n",
    "    D=m[len(m)-3][len(m)-3]*fmm[len(m)-3][len(m)-3]- m[len(m)-3][len(m)-2]*fmm[len(m)-3][len(m)-2]+m[len(m)-3][len(m)-1]*fmm[len(m)-3][len(m)-1] # multiplying first row element of input matrix to corresponding minor matrix elements to get determinant\n",
    "    return D    \n",
    "    "
   ]
  },
  {
   "cell_type": "markdown",
   "id": "b35bf023",
   "metadata": {},
   "source": [
    "# Function for fetching Minor Matrix"
   ]
  },
  {
   "cell_type": "code",
   "execution_count": 2,
   "id": "1256afac",
   "metadata": {},
   "outputs": [],
   "source": [
    "def FetchMatrixMinor(m,m_row,m_col):\n",
    "    M = [([0]*m_col) for i in range(m_row)] #Here we creating an zero matrix 'M' having same size as our input matrix\n",
    "    for r in range(len(m)+1): # Two variable to access the matrix elements \n",
    "        for c in range(len(m)+1):\n",
    "           M[len(m)-3][len(m)-3]=m[len(m)-2][len(m)-2]*m[len(m)-1][len(m)-1]-m[len(m)-2][len(m)-1]*m[len(m)-1][len(m)-2] #finding the M11 element of minor matrix by finding the determinant of sub-matrix obtainred by elimiating 1st row and 1st column   \n",
    "           M[len(m)-3][len(m)-2]=m[len(m)-2][len(m)-3]*m[len(m)-1][len(m)-1]-m[len(m)-2][len(m)-1]*m[len(m)-1][len(m)-3] #finding the M11 element of minor matrix by finding the determinant of sub-matrix obtainred by elimiating 1st row and 2nd column\n",
    "           M[len(m)-3][len(m)-1]=m[len(m)-2][len(m)-3]*m[len(m)-1][len(m)-2]-m[len(m)-2][len(m)-2]*m[len(m)-1][len(m)-3] #finding the M11 element of minor matrix by finding the determinant of sub-matrix obtainred by elimiating 1st row and 3rd column\n",
    "           M[len(m)-2][len(m)-3]=m[len(m)-3][len(m)-2]*m[len(m)-1][len(m)-1]-m[len(m)-3][len(m)-1]*m[len(m)-1][len(m)-2] #finding the M11 element of minor matrix by finding the determinant of sub-matrix obtainred by elimiating 2nd row and 1st column\n",
    "           M[len(m)-2][len(m)-2]=m[len(m)-3][len(m)-3]*m[len(m)-1][len(m)-1]-m[len(m)-3][len(m)-1]*m[len(m)-1][len(m)-3] #finding the M11 element of minor matrix by finding the determinant of sub-matrix obtainred by elimiating 2nd row and 2nd column\n",
    "           M[len(m)-2][len(m)-1]=m[len(m)-3][len(m)-3]*m[len(m)-1][len(m)-2]-m[len(m)-3][len(m)-2]*m[len(m)-1][len(m)-3] #finding the M11 element of minor matrix by finding the determinant of sub-matrix obtainred by elimiating 2nd row and 3rd column\n",
    "           M[len(m)-1][len(m)-3]=m[len(m)-3][len(m)-2]*m[len(m)-2][len(m)-1]-m[len(m)-3][len(m)-1]*m[len(m)-2][len(m)-2] #finding the M11 element of minor matrix by finding the determinant of sub-matrix obtainred by elimiating 3rd row and 1st column\n",
    "           M[len(m)-1][len(m)-2]=m[len(m)-3][len(m)-3]*m[len(m)-2][len(m)-1]-m[len(m)-3][len(m)-1]*m[len(m)-2][len(m)-3] #finding the M11 element of minor matrix by finding the determinant of sub-matrix obtainred by elimiating 3rd row and 2nd column\n",
    "           M[len(m)-1][len(m)-1]=m[len(m)-3][len(m)-3]*m[len(m)-2][len(m)-2]-m[len(m)-3][len(m)-2]*m[len(m)-2][len(m)-3] #finding the M11 element of minor matrix by finding the determinant of sub-matrix obtainred by elimiating 3rd row and 3rd column\n",
    "        return M"
   ]
  },
  {
   "cell_type": "markdown",
   "id": "704d6906",
   "metadata": {},
   "source": [
    "# Main Function"
   ]
  },
  {
   "cell_type": "code",
   "execution_count": 3,
   "id": "5c938d0f",
   "metadata": {},
   "outputs": [
    {
     "name": "stdout",
     "output_type": "stream",
     "text": [
      "Enter number of row of matrix 1: 3\n",
      "Enter number of columns of matrix 1: 3\n",
      "column 1 -> Enter 1 element for Matrix One:2\n",
      "column 2 -> Enter 1 element for Matrix One:4\n",
      "column 3 -> Enter 1 element for Matrix One:8\n",
      "column 1 -> Enter 2 element for Matrix One:3\n",
      "column 2 -> Enter 2 element for Matrix One:9\n",
      "column 3 -> Enter 2 element for Matrix One:27\n",
      "column 1 -> Enter 3 element for Matrix One:4\n",
      "column 2 -> Enter 3 element for Matrix One:16\n",
      "column 3 -> Enter 3 element for Matrix One:64\n",
      "User Inputed Matrix: \n",
      "[2, 4, 8]\n",
      "[3, 9, 27]\n",
      "[4, 16, 64]\n",
      "The Determinant of Inputed matrix is : 48\n"
     ]
    }
   ],
   "source": [
    "#Taking the number of rows and columns for matrix as input from the user\n",
    "m_row = int(input('Enter number of row of matrix 1: '))\n",
    "m_col = int(input('Enter number of columns of matrix 1: '))\n",
    "\n",
    "#Create a first matrix using input() function and nested list comprehension\n",
    "m = [[int(input(f'column {j+1} -> Enter {i+1} element for Matrix One:')) for j in range(m_col)] for i in range(m_row)]\n",
    "\n",
    "#Print inputed Matrix\n",
    "print('User Inputed Matrix: ')\n",
    "for i in m:\n",
    "    print(i)\n",
    "\n",
    "#calling the function FetchMatrixMinor passing row number, column number and matrix itself, for fetching minor matrix of inputed matrix\n",
    "fmm = FetchMatrixMinor(m,m_row,m_col)\n",
    "#calling the function FetchMatrixDeterminant passing and matrix,minor matrix , for fetching determinant matrix of inputed minior matrix\n",
    "fmd=FetchMatrixDeterminant(m,fmm)\n",
    "print('The Determinant of Inputed matrix is :',fmd)"
   ]
  },
  {
   "cell_type": "code",
   "execution_count": 8,
   "id": "5232f3de",
   "metadata": {},
   "outputs": [
    {
     "name": "stdout",
     "output_type": "stream",
     "text": [
      "47.999999999999986\n"
     ]
    }
   ],
   "source": [
    "import numpy as np #importing libraries\n",
    "dm = np.array(m) #creating numpy array for input matrix\n",
    "dm\n",
    "det=np.linalg.det(dm)\n",
    "print(det) #printing the results"
   ]
  },
  {
   "cell_type": "code",
   "execution_count": null,
   "id": "a1150343",
   "metadata": {},
   "outputs": [],
   "source": []
  }
 ],
 "metadata": {
  "kernelspec": {
   "display_name": "Python 3 (ipykernel)",
   "language": "python",
   "name": "python3"
  },
  "language_info": {
   "codemirror_mode": {
    "name": "ipython",
    "version": 3
   },
   "file_extension": ".py",
   "mimetype": "text/x-python",
   "name": "python",
   "nbconvert_exporter": "python",
   "pygments_lexer": "ipython3",
   "version": "3.9.7"
  }
 },
 "nbformat": 4,
 "nbformat_minor": 5
}

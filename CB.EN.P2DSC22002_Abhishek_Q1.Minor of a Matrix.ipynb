{
 "cells": [
  {
   "cell_type": "markdown",
   "id": "96948d17",
   "metadata": {},
   "source": [
    "# Question 1"
   ]
  },
  {
   "cell_type": "markdown",
   "id": "676ca7f4",
   "metadata": {},
   "source": [
    "Write the Python function to generate the Matrix of minors of 3 x 3 Matrix, without using \n",
    "NumPy libraries.\n",
    "\n",
    "Write python code find out the Matrix of Minors of the given 3 X3 Matrix using this function.\n",
    "\n",
    "# Input:\n",
    "Elements of the 3 X 3 Matrix\n",
    "# Output:\n",
    "Matrix of Minors of 3 x 3 Matrix corresponding to 3 x3 Matrix.\n"
   ]
  },
  {
   "cell_type": "markdown",
   "id": "236bc363",
   "metadata": {},
   "source": [
    "# Answer with code :"
   ]
  },
  {
   "cell_type": "markdown",
   "id": "25ed99c0",
   "metadata": {},
   "source": [
    "# Matrix - A Definition\n",
    "A matrix is a rectangular array of numbers or symbols which are generally arranged in rows and columns.The order of the matrix is defined as the number of rows and columns.The entries are the numbers in the matrix and each number is known as an element.The plural of matrix is matrices.The size of a matrix is referred to as ‘n by m’ matrix and is written as m×n, where n is the number of rows and m is the number of columns."
   ]
  },
  {
   "cell_type": "markdown",
   "id": "03247556",
   "metadata": {},
   "source": [
    "# Minor of a Matrix - A Definition and how to find it\n",
    "The minor of a particular element in a matrix is the determinant of the matrix formed after excluding the row and column to which the elment belongs. The new matrix formed with the minors of each elements of a matrix is called the minor of the matrix. It is denoted by M.\n",
    "\n",
    "In a matrix, each element possesses itw own minor, if we have a matrix say A, then the minor of the element aij, can be found by eleminating the ith row and jth column of A, and then finding the determinant for the resulting matrix. The process is repeated for all the elements to calculate the minor of each of the elements of a matrix."
   ]
  },
  {
   "cell_type": "markdown",
   "id": "029cfd49",
   "metadata": {},
   "source": [
    "# User Defined Function for Finding the Minor of used inputed matrix "
   ]
  },
  {
   "cell_type": "markdown",
   "id": "3ab26310",
   "metadata": {},
   "source": [
    "# Function for fetching the minor matrix"
   ]
  },
  {
   "cell_type": "code",
   "execution_count": 4,
   "id": "39750d7f",
   "metadata": {},
   "outputs": [],
   "source": [
    "def FetchMatrixMinor(m,m1_row,m1_col): #declaring function\n",
    "    M = [([0]*m1_col) for i in range(m1_row)] #Here we creating an zero matrix 'M' having same size as our input matrix\n",
    "    for r in range(len(m)+1): # Two variable to access the matrix elements \n",
    "        for c in range(len(m)+1):\n",
    "           M[len(m)-3][len(m)-3]=m[len(m)-2][len(m)-2]*m[len(m)-1][len(m)-1]-m[len(m)-2][len(m)-1]*m[len(m)-1][len(m)-2] #finding the M11 element of minor matrix by finding the determinant of sub-matrix obtainred by elimiating 1st row and 1st column   \n",
    "           M[len(m)-3][len(m)-2]=m[len(m)-2][len(m)-3]*m[len(m)-1][len(m)-1]-m[len(m)-2][len(m)-1]*m[len(m)-1][len(m)-3] #finding the M11 element of minor matrix by finding the determinant of sub-matrix obtainred by elimiating 1st row and 2nd column\n",
    "           M[len(m)-3][len(m)-1]=m[len(m)-2][len(m)-3]*m[len(m)-1][len(m)-2]-m[len(m)-2][len(m)-2]*m[len(m)-1][len(m)-3] #finding the M11 element of minor matrix by finding the determinant of sub-matrix obtainred by elimiating 1st row and 3rd column\n",
    "           M[len(m)-2][len(m)-3]=m[len(m)-3][len(m)-2]*m[len(m)-1][len(m)-1]-m[len(m)-3][len(m)-1]*m[len(m)-1][len(m)-2] #finding the M11 element of minor matrix by finding the determinant of sub-matrix obtainred by elimiating 2nd row and 1st column\n",
    "           M[len(m)-2][len(m)-2]=m[len(m)-3][len(m)-3]*m[len(m)-1][len(m)-1]-m[len(m)-3][len(m)-1]*m[len(m)-1][len(m)-3] #finding the M11 element of minor matrix by finding the determinant of sub-matrix obtainred by elimiating 2nd row and 2nd column\n",
    "           M[len(m)-2][len(m)-1]=m[len(m)-3][len(m)-3]*m[len(m)-1][len(m)-2]-m[len(m)-3][len(m)-2]*m[len(m)-1][len(m)-3] #finding the M11 element of minor matrix by finding the determinant of sub-matrix obtainred by elimiating 2nd row and 3rd column\n",
    "           M[len(m)-1][len(m)-3]=m[len(m)-3][len(m)-2]*m[len(m)-2][len(m)-1]-m[len(m)-3][len(m)-1]*m[len(m)-2][len(m)-2] #finding the M11 element of minor matrix by finding the determinant of sub-matrix obtainred by elimiating 3rd row and 1st column\n",
    "           M[len(m)-1][len(m)-2]=m[len(m)-3][len(m)-3]*m[len(m)-2][len(m)-1]-m[len(m)-3][len(m)-1]*m[len(m)-2][len(m)-3] #finding the M11 element of minor matrix by finding the determinant of sub-matrix obtainred by elimiating 3rd row and 2nd column\n",
    "           M[len(m)-1][len(m)-1]=m[len(m)-3][len(m)-3]*m[len(m)-2][len(m)-2]-m[len(m)-3][len(m)-2]*m[len(m)-2][len(m)-3] #finding the M11 element of minor matrix by finding the determinant of sub-matrix obtainred by elimiating 3rd row and 3rd column\n",
    "        return M"
   ]
  },
  {
   "cell_type": "markdown",
   "id": "d84f1d78",
   "metadata": {},
   "source": [
    "# Main Program "
   ]
  },
  {
   "cell_type": "code",
   "execution_count": 5,
   "id": "4710ff1c",
   "metadata": {},
   "outputs": [
    {
     "name": "stdout",
     "output_type": "stream",
     "text": [
      "Enter number of row of matrix 1: 3\n",
      "Enter number of columns of matrix 1: 3\n",
      "column 1 -> Enter 1 element for Matrix One:1\n",
      "column 2 -> Enter 1 element for Matrix One:2\n",
      "column 3 -> Enter 1 element for Matrix One:3\n",
      "column 1 -> Enter 2 element for Matrix One:4\n",
      "column 2 -> Enter 2 element for Matrix One:5\n",
      "column 3 -> Enter 2 element for Matrix One:6\n",
      "column 1 -> Enter 3 element for Matrix One:7\n",
      "column 2 -> Enter 3 element for Matrix One:8\n",
      "column 3 -> Enter 3 element for Matrix One:9\n",
      "User Inputed Matrix: \n",
      "[1, 2, 3]\n",
      "[4, 5, 6]\n",
      "[7, 8, 9]\n",
      "The Minor of User Inputed Matrix:\n",
      "[-3, -6, -3]\n",
      "[-6, -12, -6]\n",
      "[-3, -6, -3]\n"
     ]
    }
   ],
   "source": [
    "#Taking the number of rows and columns for matrix as input from the user\n",
    "m_row = int(input('Enter number of row of matrix 1: '))\n",
    "m_col = int(input('Enter number of columns of matrix 1: '))\n",
    "\n",
    "#Create a first matrix using input() function and nested list comprehension\n",
    "m = [[int(input(f'column {j+1} -> Enter {i+1} element for Matrix One:')) for j in range(m_col)] for i in range(m_row)]\n",
    "\n",
    "#Print inputed Matrix\n",
    "print('User Inputed Matrix: ')\n",
    "for i in m:\n",
    "    print(i)\n",
    "\n",
    "#calling the function FetchMatrixMinor passing row number, column number and matrix itself.\n",
    "fmm = FetchMatrixMinor(m,m_row,m_col)\n",
    "print('The Minor of User Inputed Matrix:') \n",
    "for i in fmm: #printing the minor matrix as a 3X3 matrix from the returned M value\n",
    "    print(i)"
   ]
  }
 ],
 "metadata": {
  "kernelspec": {
   "display_name": "Python 3 (ipykernel)",
   "language": "python",
   "name": "python3"
  },
  "language_info": {
   "codemirror_mode": {
    "name": "ipython",
    "version": 3
   },
   "file_extension": ".py",
   "mimetype": "text/x-python",
   "name": "python",
   "nbconvert_exporter": "python",
   "pygments_lexer": "ipython3",
   "version": "3.9.7"
  }
 },
 "nbformat": 4,
 "nbformat_minor": 5
}
